{
 "cells": [
  {
   "cell_type": "code",
   "execution_count": 6,
   "metadata": {},
   "outputs": [],
   "source": [
    "import random\n",
    "import math"
   ]
  },
  {
   "cell_type": "code",
   "execution_count": 7,
   "metadata": {},
   "outputs": [],
   "source": [
    "def no_of_decimals_pi(num):\n",
    "    if num >= 0 and num < 16:\n",
    "        return round(math.pi,num)\n",
    "    else:\n",
    "        print('Maximum number of decimals is 15')"
   ]
  },
  {
   "cell_type": "code",
   "execution_count": 8,
   "metadata": {},
   "outputs": [
    {
     "data": {
      "text/plain": [
       "3.14159265358979"
      ]
     },
     "execution_count": 8,
     "metadata": {},
     "output_type": "execute_result"
    }
   ],
   "source": [
    "no_of_decimals_pi(14)"
   ]
  },
  {
   "cell_type": "code",
   "execution_count": null,
   "metadata": {},
   "outputs": [],
   "source": [
    "def no_of_decimals_e(num):\n",
    "    if num >= 0 and num < 16:\n",
    "        return round(math.e,num)\n",
    "    else:\n",
    "        print('Maximum number of decimals is 15')"
   ]
  },
  {
   "cell_type": "code",
   "execution_count": null,
   "metadata": {},
   "outputs": [],
   "source": [
    "no_of_decimals_e(4)"
   ]
  },
  {
   "cell_type": "code",
   "execution_count": 1,
   "metadata": {},
   "outputs": [],
   "source": [
    "def fibonacci_sequence(num_fib):\n",
    "    fib_list = []\n",
    "    \n",
    "    for i in range(1,num_fib+1):\n",
    "        if len(fib_list) == 0:\n",
    "            fib_list.append(1)\n",
    "        elif len(fib_list) == 1:\n",
    "            fib_list.append(1)\n",
    "        else:\n",
    "            fib_list.append(fib_list[-2] + fib_list[-1])       \n",
    "    \n",
    "    return fib_list"
   ]
  },
  {
   "cell_type": "code",
   "execution_count": 3,
   "metadata": {},
   "outputs": [
    {
     "data": {
      "text/plain": [
       "[1, 1, 2, 3, 5, 8, 13, 21, 34, 55]"
      ]
     },
     "execution_count": 3,
     "metadata": {},
     "output_type": "execute_result"
    }
   ],
   "source": [
    "fibonacci_sequence(10)"
   ]
  },
  {
   "cell_type": "code",
   "execution_count": 12,
   "metadata": {},
   "outputs": [],
   "source": [
    "def prime_factors(num):\n",
    "    list_of_prime_factors = []\n",
    "    \n",
    "    def is_prime(x):\n",
    "        if x < 2:\n",
    "            return False\n",
    "        elif x == 2:\n",
    "            return True  \n",
    "        for n in range(2, x):\n",
    "            if x % n ==0:\n",
    "                return False\n",
    "        return True\n",
    "    \n",
    "    \n",
    "    for i in range(2,int(round((num**0.5)+1))):\n",
    "        if (num % i == 0) and is_prime(i):\n",
    "            list_of_prime_factors.append(i)\n",
    "    \n",
    "    \n",
    "    return list_of_prime_factors[-1]"
   ]
  },
  {
   "cell_type": "code",
   "execution_count": 14,
   "metadata": {},
   "outputs": [
    {
     "data": {
      "text/plain": [
       "6857"
      ]
     },
     "execution_count": 14,
     "metadata": {},
     "output_type": "execute_result"
    }
   ],
   "source": [
    "prime_factors(600851475143)"
   ]
  },
  {
   "cell_type": "code",
   "execution_count": 15,
   "metadata": {},
   "outputs": [],
   "source": [
    "def find_cost(cost,width, height):\n",
    "    return cost*width*height"
   ]
  },
  {
   "cell_type": "code",
   "execution_count": 16,
   "metadata": {},
   "outputs": [
    {
     "data": {
      "text/plain": [
       "125"
      ]
     },
     "execution_count": 16,
     "metadata": {},
     "output_type": "execute_result"
    }
   ],
   "source": [
    "find_cost(5,5,5)"
   ]
  },
  {
   "cell_type": "code",
   "execution_count": 20,
   "metadata": {},
   "outputs": [],
   "source": [
    "llist = ['1','4','7','2']"
   ]
  },
  {
   "cell_type": "code",
   "execution_count": 25,
   "metadata": {},
   "outputs": [],
   "source": [
    "llist.sort(reverse=True)"
   ]
  },
  {
   "cell_type": "code",
   "execution_count": 28,
   "metadata": {},
   "outputs": [
    {
     "data": {
      "text/plain": [
       "['7', '4', '2', '1']"
      ]
     },
     "execution_count": 28,
     "metadata": {},
     "output_type": "execute_result"
    }
   ],
   "source": [
    "llist"
   ]
  },
  {
   "cell_type": "code",
   "execution_count": 29,
   "metadata": {},
   "outputs": [
    {
     "data": {
      "text/plain": [
       "'74'"
      ]
     },
     "execution_count": 29,
     "metadata": {},
     "output_type": "execute_result"
    }
   ],
   "source": [
    "llist[0]+llist[1]"
   ]
  },
  {
   "cell_type": "code",
   "execution_count": 40,
   "metadata": {},
   "outputs": [],
   "source": [
    "def descending_order(num):\n",
    "    list_nb = []\n",
    "    number = ''\n",
    "    \n",
    "    for i in str(num):\n",
    "        list_nb.append(i)\n",
    "    \n",
    "    list_nb.sort(reverse=True)\n",
    "    \n",
    "    for n in list_nb:\n",
    "        number = number + n\n",
    "    \n",
    "    return int(number)"
   ]
  },
  {
   "cell_type": "code",
   "execution_count": 41,
   "metadata": {},
   "outputs": [
    {
     "data": {
      "text/plain": [
       "51"
      ]
     },
     "execution_count": 41,
     "metadata": {},
     "output_type": "execute_result"
    }
   ],
   "source": [
    "descending_order(15)"
   ]
  },
  {
   "cell_type": "code",
   "execution_count": 42,
   "metadata": {},
   "outputs": [],
   "source": [
    "def Descending_Order(num):\n",
    "    return int(''.join(sorted(list(str(num)), reverse=True)))"
   ]
  },
  {
   "cell_type": "code",
   "execution_count": 43,
   "metadata": {},
   "outputs": [
    {
     "data": {
      "text/plain": [
       "51"
      ]
     },
     "execution_count": 43,
     "metadata": {},
     "output_type": "execute_result"
    }
   ],
   "source": [
    "descending_order(15)"
   ]
  },
  {
   "cell_type": "code",
   "execution_count": 46,
   "metadata": {},
   "outputs": [],
   "source": [
    "x = [4,4,'f']"
   ]
  },
  {
   "cell_type": "markdown",
   "metadata": {},
   "source": [
    "**Calculator**"
   ]
  },
  {
   "cell_type": "code",
   "execution_count": 31,
   "metadata": {},
   "outputs": [],
   "source": [
    "def calculator():\n",
    "    \n",
    "    operations = ['plus','minus','multiply','divide']\n",
    "    \n",
    "    while True:\n",
    "        \n",
    "        try:\n",
    "            num1 = int(input('Please indicate a number: '))\n",
    "            print('Avalilable operations are {}'.format(operations))\n",
    "            while True:    \n",
    "                operation = input('Please select one of the following opperations: ').lower()\n",
    "                \n",
    "                if operation not in operations:\n",
    "                    print('Please select an opperation from the list above!')\n",
    "                else:\n",
    "                    break\n",
    "            \n",
    "            num2 = int(input('Please indicate your second number: '))\n",
    "            \n",
    "            if operation == 'plus':\n",
    "                return 'Your result is ' + str(num1 + num2)\n",
    "            elif operation == 'minus':\n",
    "                return 'Your result is ' + str(num1 - num2)\n",
    "            elif operation == 'multiply':\n",
    "                return 'Your result is ' + str(num1 * num2)\n",
    "            elif operation == 'divide':\n",
    "                return 'Your result is ' + str(num1 / num2)\n",
    "        except ValueError:\n",
    "            print('Please input a number!')\n",
    "        except ZeroDivisionError:\n",
    "            print('You can divide by zero (0)!')\n",
    "        \n",
    "        \n",
    "        else:\n",
    "            break"
   ]
  },
  {
   "cell_type": "code",
   "execution_count": 32,
   "metadata": {},
   "outputs": [
    {
     "name": "stdout",
     "output_type": "stream",
     "text": [
      "Please indicate a number: 5\n",
      "Avalilable operations are ['plus', 'minus', 'multiply', 'divide']\n",
      "Please select one of the following opperations: plus\n",
      "Please indicate your second number: 10\n"
     ]
    },
    {
     "data": {
      "text/plain": [
       "'Your result is 15'"
      ]
     },
     "execution_count": 32,
     "metadata": {},
     "output_type": "execute_result"
    }
   ],
   "source": [
    "calculator()"
   ]
  },
  {
   "cell_type": "code",
   "execution_count": 8,
   "metadata": {},
   "outputs": [],
   "source": [
    "def more_advanced_calculator():\n",
    "    \n",
    "    print('Calculator has been created by Badea Vitiok - enjoy!!!')\n",
    "    \n",
    "    operations = ['+','-','*','/','=']\n",
    "    total = int(input('Number: '))\n",
    "    \n",
    "    try:\n",
    "        while True:\n",
    "        \n",
    "            operation = input('Available operations {}: '.format(operations))\n",
    "            if operation == '=':\n",
    "                return total\n",
    "                break\n",
    "            num = int(input('Number: '))\n",
    "            \n",
    "            if operation == '+':\n",
    "                total += num\n",
    "            elif operation == '-':\n",
    "                total -= num\n",
    "            elif operation == '*':\n",
    "                total *= num\n",
    "            elif operation == '/':\n",
    "                total /= num\n",
    "            elif operation == '=':\n",
    "                return total\n",
    "                break\n",
    "\n",
    "    except ZeroDivisionError:\n",
    "        print('You cant divide by zero!')\n",
    "    "
   ]
  },
  {
   "cell_type": "code",
   "execution_count": 7,
   "metadata": {},
   "outputs": [
    {
     "name": "stdout",
     "output_type": "stream",
     "text": [
      "Number: 5\n",
      "Calculator has been created by Badea Vitiok - enjoy!!!\n",
      "Available operations ['+', '-', '*', '/', '=']: +\n",
      "Number: 10\n",
      "Available operations ['+', '-', '*', '/', '=']: /\n",
      "Number: 2\n",
      "Available operations ['+', '-', '*', '/', '=']: *1000\n",
      "Number: 5\n",
      "Available operations ['+', '-', '*', '/', '=']: *\n",
      "Number: 100\n",
      "Available operations ['+', '-', '*', '/', '=']: =\n"
     ]
    },
    {
     "data": {
      "text/plain": [
       "750.0"
      ]
     },
     "execution_count": 7,
     "metadata": {},
     "output_type": "execute_result"
    }
   ],
   "source": [
    "more_advanced_calculator()"
   ]
  },
  {
   "cell_type": "markdown",
   "metadata": {},
   "source": [
    "**Binary to Decimal and Back Converter**"
   ]
  },
  {
   "cell_type": "code",
   "execution_count": 35,
   "metadata": {},
   "outputs": [],
   "source": [
    "class BinaryConverter():\n",
    "    \n",
    "    def decimal_to_binary(self,num):\n",
    "        \n",
    "        '''\n",
    "        Inserted decimal number will be converted into the binary number\n",
    "        '''\n",
    "        self.binary_num = ''\n",
    "        while True:\n",
    "            self.binary_num += str(num%2)\n",
    "            num = num // 2\n",
    "            \n",
    "            if (num // 2) == 0 and num%2==0:\n",
    "                break\n",
    "        \n",
    "        return self.binary_num[::-1]\n",
    "    \n",
    "    def binary_to_decimal(self,num):\n",
    "        \n",
    "        '''\n",
    "        Inserted binary number will be converted into the decimal number\n",
    "        '''\n",
    "        pass"
   ]
  },
  {
   "cell_type": "code",
   "execution_count": 28,
   "metadata": {},
   "outputs": [],
   "source": [
    "x = BinaryConverter()"
   ]
  },
  {
   "cell_type": "code",
   "execution_count": 34,
   "metadata": {},
   "outputs": [
    {
     "data": {
      "text/plain": [
       "'1111'"
      ]
     },
     "execution_count": 34,
     "metadata": {},
     "output_type": "execute_result"
    }
   ],
   "source": [
    "x.decimal_to_binary(15)"
   ]
  },
  {
   "cell_type": "markdown",
   "metadata": {},
   "source": [
    "**Coin Flip Simulation**"
   ]
  },
  {
   "cell_type": "code",
   "execution_count": 45,
   "metadata": {},
   "outputs": [],
   "source": [
    "from random import randint\n",
    "from collections import Counter\n",
    "def coin_flip(num):\n",
    "    counter = ['Heads' if randint(0,1) else 'Tails' for n in range(1,num+1)]\n",
    "    a,b = Counter(counter).most_common()\n",
    "    return 'After flipping the coing {} times, the number of {} is {} and number of {} is {}!'.format(num,a[0],a[1],b[0],b[1])"
   ]
  },
  {
   "cell_type": "code",
   "execution_count": 47,
   "metadata": {},
   "outputs": [
    {
     "data": {
      "text/plain": [
       "'After flipping the coing 100000 times, the number of Tails is 50145 and number of Heads is 49855!'"
      ]
     },
     "execution_count": 47,
     "metadata": {},
     "output_type": "execute_result"
    }
   ],
   "source": [
    "coin_flip(100000)"
   ]
  },
  {
   "cell_type": "markdown",
   "metadata": {},
   "source": [
    "**Collatz Conjecture**"
   ]
  },
  {
   "cell_type": "code",
   "execution_count": 50,
   "metadata": {},
   "outputs": [],
   "source": [
    "def collatz_conjecture(n):\n",
    "    steps = 0\n",
    "    while n != 1:\n",
    "        if n%2:\n",
    "            n = n*3 + 1\n",
    "            steps += 1\n",
    "        else:\n",
    "            n /= 2\n",
    "            steps += 1\n",
    "    return steps"
   ]
  },
  {
   "cell_type": "code",
   "execution_count": 61,
   "metadata": {},
   "outputs": [
    {
     "data": {
      "text/plain": [
       "3"
      ]
     },
     "execution_count": 61,
     "metadata": {},
     "output_type": "execute_result"
    }
   ],
   "source": [
    "collatz_conjecture(8)"
   ]
  },
  {
   "cell_type": "markdown",
   "metadata": {},
   "source": [
    "**Fizz Buzz**"
   ]
  },
  {
   "cell_type": "code",
   "execution_count": 63,
   "metadata": {},
   "outputs": [
    {
     "name": "stdout",
     "output_type": "stream",
     "text": [
      "Fizz\n",
      "Buzz\n",
      "Fizz\n",
      "Fizz\n",
      "Buzz\n",
      "Fizz\n",
      "FizzBuzz\n",
      "Fizz\n",
      "Buzz\n",
      "Fizz\n",
      "Fizz\n",
      "Buzz\n",
      "Fizz\n",
      "FizzBuzz\n",
      "Fizz\n",
      "Buzz\n",
      "Fizz\n",
      "Fizz\n",
      "Buzz\n",
      "Fizz\n",
      "FizzBuzz\n",
      "Fizz\n",
      "Buzz\n",
      "Fizz\n",
      "Fizz\n",
      "Buzz\n",
      "Fizz\n",
      "FizzBuzz\n",
      "Fizz\n",
      "Buzz\n",
      "Fizz\n",
      "Fizz\n",
      "Buzz\n",
      "Fizz\n",
      "FizzBuzz\n",
      "Fizz\n",
      "Buzz\n",
      "Fizz\n",
      "Fizz\n",
      "Buzz\n",
      "Fizz\n",
      "FizzBuzz\n",
      "Fizz\n",
      "Buzz\n",
      "Fizz\n",
      "Fizz\n",
      "Buzz\n"
     ]
    }
   ],
   "source": [
    "for i in range(1,101):\n",
    "    if i % 3 == 0 and i % 5 == 0:\n",
    "        print('FizzBuzz')\n",
    "    elif i % 3 == 0:\n",
    "        print('Fizz')\n",
    "    elif i % 5 == 0:\n",
    "        print('Buzz')"
   ]
  },
  {
   "cell_type": "markdown",
   "metadata": {},
   "source": [
    "**Reverse a String**"
   ]
  },
  {
   "cell_type": "code",
   "execution_count": 64,
   "metadata": {},
   "outputs": [],
   "source": [
    "def rev_str(s):\n",
    "    return s[::-1]"
   ]
  },
  {
   "cell_type": "code",
   "execution_count": 65,
   "metadata": {},
   "outputs": [
    {
     "data": {
      "text/plain": [
       "'kdcndufids'"
      ]
     },
     "execution_count": 65,
     "metadata": {},
     "output_type": "execute_result"
    }
   ],
   "source": [
    "rev_str('sdifudncdk')"
   ]
  },
  {
   "cell_type": "markdown",
   "metadata": {},
   "source": [
    "**Pig Latin**"
   ]
  },
  {
   "cell_type": "code",
   "execution_count": 69,
   "metadata": {},
   "outputs": [],
   "source": [
    "def pig_latin(x):\n",
    "    if x[0] in 'aeiou':\n",
    "        return x + 'ay'\n",
    "    else:\n",
    "        return x[1:] + x[0] + 'ay'"
   ]
  },
  {
   "cell_type": "code",
   "execution_count": 70,
   "metadata": {},
   "outputs": [
    {
     "data": {
      "text/plain": [
       "'itiokvay'"
      ]
     },
     "execution_count": 70,
     "metadata": {},
     "output_type": "execute_result"
    }
   ],
   "source": [
    "pig_latin('vitiok')"
   ]
  },
  {
   "cell_type": "markdown",
   "metadata": {},
   "source": [
    "**Count Vowels**"
   ]
  },
  {
   "cell_type": "code",
   "execution_count": 79,
   "metadata": {},
   "outputs": [],
   "source": [
    "import re\n",
    "from collections import Counter\n",
    "def count_vowels(string):\n",
    "    return Counter(re.findall('[aeiou]',string))"
   ]
  },
  {
   "cell_type": "code",
   "execution_count": 80,
   "metadata": {},
   "outputs": [
    {
     "data": {
      "text/plain": [
       "Counter({'i': 4, 'o': 5, 'u': 5, 'e': 5, 'a': 1})"
      ]
     },
     "execution_count": 80,
     "metadata": {},
     "output_type": "execute_result"
    }
   ],
   "source": [
    "count_vowels('iouhbjensiaoxucyvhew nd ikwehcnoweiluru9832 urf93newo fho')"
   ]
  },
  {
   "cell_type": "markdown",
   "metadata": {},
   "source": [
    "**Check if Palindrome**"
   ]
  },
  {
   "cell_type": "code",
   "execution_count": 82,
   "metadata": {},
   "outputs": [],
   "source": [
    "def check_palindrome(x):\n",
    "    return x == x[::-1]"
   ]
  },
  {
   "cell_type": "code",
   "execution_count": 84,
   "metadata": {},
   "outputs": [
    {
     "data": {
      "text/plain": [
       "False"
      ]
     },
     "execution_count": 84,
     "metadata": {},
     "output_type": "execute_result"
    }
   ],
   "source": [
    "check_palindrome('abcdba')"
   ]
  },
  {
   "cell_type": "markdown",
   "metadata": {},
   "source": [
    "**Count Words in a String**"
   ]
  },
  {
   "cell_type": "code",
   "execution_count": 120,
   "metadata": {},
   "outputs": [],
   "source": [
    "x = open('test.txt')"
   ]
  },
  {
   "cell_type": "code",
   "execution_count": 121,
   "metadata": {},
   "outputs": [],
   "source": [
    "def count_words(string):\n",
    "    return re.findall('[^!.? ]+',string)"
   ]
  },
  {
   "cell_type": "code",
   "execution_count": 123,
   "metadata": {},
   "outputs": [],
   "source": [
    "a = count_words(x.read())"
   ]
  },
  {
   "cell_type": "markdown",
   "metadata": {},
   "source": [
    "**Text Editor**"
   ]
  },
  {
   "cell_type": "code",
   "execution_count": 128,
   "metadata": {},
   "outputs": [],
   "source": [
    "  \n",
    "#Basic Text Editor built with tkinter with some features such as: save, open, clear, copy, paste, word count\n",
    "#A.G.\n",
    "#July 14, 2014\n",
    "\n",
    "from tkinter import *\n",
    "import tkinter.filedialog as tk\n",
    "import tkinter.messagebox as tk2\n",
    "\n",
    "class Application(Frame):\n",
    "    \n",
    "    def __init__(self,master):\n",
    "        super(Application, self).__init__(master)\n",
    "        self.create_widgets()\n",
    "\n",
    "    def create_widgets(self):\n",
    "        self.text1 = Text(width = 20, height = 20)\n",
    "        self.text1.pack(expand=YES, fill=BOTH)         #to make the textbox fill entire window\n",
    "\n",
    "        menubar = Menu(self)\n",
    "        filemenu = Menu(menubar)\n",
    "        editmenu = Menu(menubar)\n",
    "        toolsmenu = Menu(menubar)\n",
    "        filemenu.add_command(label = 'New', command = self.newDoc)\n",
    "        filemenu.add_command(label = 'Save', command = self.saveDoc)\n",
    "        filemenu.add_command(label = 'Open', command = self.openDoc)\n",
    "        editmenu.add_command(label = 'Copy', command = self.copy)\n",
    "        editmenu.add_command(label = 'Paste', command = self.paste)\n",
    "        editmenu.add_command(label = 'Clear', command = self.clear)\n",
    "        toolsmenu.add_command(label = 'Word Count', command = self.wordCount)\n",
    "        menubar.add_cascade(label = 'File', menu = filemenu)\n",
    "        menubar.add_cascade(label = 'Edit', menu = editmenu)\n",
    "        menubar.add_cascade(label = 'Tools', menu = toolsmenu)\n",
    "        root.config(menu=menubar)\n",
    "\n",
    "    def newDoc(self):\n",
    "        if(tk2.askyesno(\"Message\", \"Unsaved work will be lost. Continue?\")):\n",
    "            self.text1.delete(\"1.0\", END)        \n",
    "\n",
    "    def saveDoc(self):\n",
    "        savefile = tk.asksaveasfile(mode = 'w', defaultextension = \".txt\")\n",
    "        text2save = str(self.text1.get(\"1.0\", END))\n",
    "        savefile.write(text2save)\n",
    "        savefile.close()\n",
    "        \n",
    "        \n",
    "    def openDoc(self):\n",
    "        openfile = tk.askopenfile(mode = 'r')\n",
    "        text = openfile.read()\n",
    "        self.text1.insert(END, text)\n",
    "        openfile.close()\n",
    "\n",
    "    def copy(self):\n",
    "        #Copy the selected text into the clipboard\n",
    "        var = str(self.text1.get(SEL_FIRST,SEL_LAST))\n",
    "        self.clipboard_clear()\n",
    "        self.clipboard_append(var)\n",
    "    \n",
    "\n",
    "    def paste(self):\n",
    "        #Insert the clipboard text into the textbox\n",
    "        result = self.selection_get(selection = \"CLIPBOARD\")   #get text from clipboard\n",
    "        self.text1.insert(\"1.0\", result)\n",
    "\n",
    "    def clear(self):\n",
    "        self.text1.delete(\"1.0\", END)\n",
    "\n",
    "    def wordCount(self):\n",
    "        #Get text from textbox and split it by whitespace characters into a list. Then find length of list\n",
    "        userText = self.text1.get(\"1.0\", END)\n",
    "        wordList = userText.split()\n",
    "        number_of_words = len(wordList)\n",
    "        tk2.showinfo('Word Count', 'Words:  ' + str(number_of_words))\n",
    "\n",
    "root = Tk()\n",
    "root.title('Text Editor')\n",
    "root.geometry('700x600')\n",
    "app = Application(root)\n",
    "app.mainloop()"
   ]
  },
  {
   "cell_type": "code",
   "execution_count": null,
   "metadata": {},
   "outputs": [],
   "source": []
  }
 ],
 "metadata": {
  "kernelspec": {
   "display_name": "Python 3",
   "language": "python",
   "name": "python3"
  },
  "language_info": {
   "codemirror_mode": {
    "name": "ipython",
    "version": 3
   },
   "file_extension": ".py",
   "mimetype": "text/x-python",
   "name": "python",
   "nbconvert_exporter": "python",
   "pygments_lexer": "ipython3",
   "version": "3.7.3"
  }
 },
 "nbformat": 4,
 "nbformat_minor": 2
}
