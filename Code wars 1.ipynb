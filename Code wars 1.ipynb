{
 "cells": [
  {
   "cell_type": "code",
   "execution_count": null,
   "metadata": {},
   "outputs": [],
   "source": [
    "def get_planet_name(id):\n",
    "    \n",
    "    switch={\n",
    "        1:\"Mercury\",\n",
    "        2:\"Venus\",\n",
    "        3:\"Earth\",\n",
    "        4:\"Mars\",\n",
    "        5:\"Jupiter\",\n",
    "        6:\"Saturn\",\n",
    "        7:\"Uranus\",  \n",
    "        8:\"Neptune\",\n",
    "        }\n",
    "    return switch.get(id)"
   ]
  },
  {
   "cell_type": "code",
   "execution_count": null,
   "metadata": {},
   "outputs": [],
   "source": [
    "get_planet_name(1)"
   ]
  },
  {
   "cell_type": "code",
   "execution_count": null,
   "metadata": {},
   "outputs": [],
   "source": [
    "def abbrevName(name):\n",
    "    \n",
    "    name = name.split()\n",
    "    \n",
    "    return name[0][0].upper() + '.' + name[1][0].upper()"
   ]
  },
  {
   "cell_type": "code",
   "execution_count": null,
   "metadata": {},
   "outputs": [],
   "source": [
    "abbrevName('sam Harris')"
   ]
  },
  {
   "cell_type": "code",
   "execution_count": null,
   "metadata": {},
   "outputs": [],
   "source": [
    "def get_sum(a,b):\n",
    "    \n",
    "    if a == b:\n",
    "        return a\n",
    "    elif a < b:\n",
    "        return sum(list(range(a,b+1)))\n",
    "    elif a > b:\n",
    "        return sum(list(range(b,a+1)))"
   ]
  },
  {
   "cell_type": "code",
   "execution_count": null,
   "metadata": {},
   "outputs": [],
   "source": [
    "get_sum(4,1)"
   ]
  },
  {
   "cell_type": "markdown",
   "metadata": {},
   "source": [
    "More elegant way of doing it..."
   ]
  },
  {
   "cell_type": "code",
   "execution_count": null,
   "metadata": {},
   "outputs": [],
   "source": [
    "def get_sum(a,b):\n",
    "    return sum(range(min(a, b), max(a, b) + 1))"
   ]
  },
  {
   "cell_type": "code",
   "execution_count": null,
   "metadata": {},
   "outputs": [],
   "source": [
    "def get_sum(a,b):\n",
    "    if a>b : a,b = b,a\n",
    "    return sum(range(a,b+1))"
   ]
  },
  {
   "cell_type": "markdown",
   "metadata": {},
   "source": [
    "**Total amount of points**"
   ]
  },
  {
   "cell_type": "code",
   "execution_count": null,
   "metadata": {},
   "outputs": [],
   "source": [
    "def points(games):\n",
    "    total_points = 0\n",
    "    for i in games:\n",
    "        if int(i.split(':')[0]) > int(i.split(':')[1]):\n",
    "            total_points += 3\n",
    "        elif int(i.split(':')[0]) == int(i.split(':')[1]):\n",
    "            total_points += 1\n",
    "        elif int(i.split(':')[0]) < int(i.split(':')[1]):\n",
    "            total_points += 0\n",
    "    return total_points"
   ]
  },
  {
   "cell_type": "code",
   "execution_count": null,
   "metadata": {},
   "outputs": [],
   "source": [
    "points(['3:2', '3:0', '2:0', '0:0', '3:1', '0:1', '1:3', '2:1', '4:4', '0:1'])"
   ]
  },
  {
   "cell_type": "markdown",
   "metadata": {},
   "source": [
    "**Shortest Word**"
   ]
  },
  {
   "cell_type": "code",
   "execution_count": null,
   "metadata": {},
   "outputs": [],
   "source": [
    "def find_short(s):\n",
    "    list_of_len = []\n",
    "    for i in s.split():\n",
    "        list_of_len.append(len(i))\n",
    "    return min(list_of_len)"
   ]
  },
  {
   "cell_type": "code",
   "execution_count": null,
   "metadata": {},
   "outputs": [],
   "source": [
    "find_short(\"bitcoin take over the world maybe who knows perhaps\")"
   ]
  },
  {
   "cell_type": "code",
   "execution_count": null,
   "metadata": {},
   "outputs": [],
   "source": [
    "# Nicer way\n",
    "def find_short(s):\n",
    "    return min(len(x) for x in s.split())"
   ]
  },
  {
   "cell_type": "markdown",
   "metadata": {},
   "source": [
    "**Multiples of 3 or 5**"
   ]
  },
  {
   "cell_type": "code",
   "execution_count": null,
   "metadata": {},
   "outputs": [],
   "source": [
    "def solution(number):\n",
    "    sum_of_numbers = 0\n",
    "    \n",
    "    for i in range(3,number):\n",
    "        if (i % 3 == 0) and (i%5==0):\n",
    "            sum_of_numbers += i\n",
    "            print(i)\n",
    "            print(sum_of_numbers)\n",
    "            print('_________________')\n",
    "\n",
    "        elif i % 3 == 0:\n",
    "            sum_of_numbers += i\n",
    "            print(i)\n",
    "            print(sum_of_numbers)\n",
    "            print('_________________')\n",
    "\n",
    "        elif i % 5 == 0:\n",
    "            sum_of_numbers += i\n",
    "            print(i)\n",
    "            print(sum_of_numbers)\n",
    "            print('_________________')\n",
    "\n",
    "    return sum_of_numbers"
   ]
  },
  {
   "cell_type": "code",
   "execution_count": null,
   "metadata": {},
   "outputs": [],
   "source": [
    "#Nicer solution\n",
    "def solution(number):\n",
    "    return sum(x for x in range(number) if x % 3 == 0 or x % 5 == 0)"
   ]
  },
  {
   "cell_type": "markdown",
   "metadata": {},
   "source": [
    "**Disemvowel Trolls**"
   ]
  },
  {
   "cell_type": "code",
   "execution_count": null,
   "metadata": {},
   "outputs": [],
   "source": [
    "def disemvowel(string):\n",
    "    \n",
    "    for i in string:\n",
    "        if i in ['a','e','i','o','u','A','E','I','O','U']:\n",
    "            string = string.replace(i,'')\n",
    "    return string"
   ]
  },
  {
   "cell_type": "code",
   "execution_count": null,
   "metadata": {},
   "outputs": [],
   "source": [
    "disemvowel('This website is for losers LOL!')"
   ]
  },
  {
   "cell_type": "code",
   "execution_count": null,
   "metadata": {},
   "outputs": [],
   "source": [
    "#Better....\n",
    "def disemvowel(s):\n",
    "    for i in \"aeiouAEIOU\":\n",
    "        s = s.replace(i,'')\n",
    "    return s\n",
    "\n",
    "#OR\n",
    "def disemvowel(s):\n",
    "    return s.translate(None, \"aeiouAEIOU\")"
   ]
  },
  {
   "cell_type": "code",
   "execution_count": null,
   "metadata": {},
   "outputs": [],
   "source": []
  },
  {
   "cell_type": "code",
   "execution_count": null,
   "metadata": {},
   "outputs": [],
   "source": [
    "def positive_sum(arr):\n",
    "    # Your code here\n",
    "    return sum(i for i in range(arr) if i <= 0)"
   ]
  },
  {
   "cell_type": "code",
   "execution_count": null,
   "metadata": {},
   "outputs": [],
   "source": [
    "'787%&^'.isupper()"
   ]
  },
  {
   "cell_type": "markdown",
   "metadata": {},
   "source": [
    "**5 digit number in a series**"
   ]
  },
  {
   "cell_type": "code",
   "execution_count": null,
   "metadata": {},
   "outputs": [],
   "source": [
    "def solution(digits):\n",
    "    num = [0]\n",
    "    x = -1\n",
    "    y = 4\n",
    "    for i in str(digits):\n",
    "        x += 1\n",
    "        y += 1\n",
    "        if int(str(digits)[x:y]) > num[-1]:\n",
    "            num.append(int(str(digits)[x:y]))\n",
    "    return max(num)"
   ]
  },
  {
   "cell_type": "code",
   "execution_count": null,
   "metadata": {},
   "outputs": [],
   "source": [
    "solution(28734324234235982745733489)"
   ]
  },
  {
   "cell_type": "code",
   "execution_count": null,
   "metadata": {},
   "outputs": [],
   "source": [
    "#Better...\n",
    "def solution(digits):\n",
    "    numlist = [int(digits[i:i+5]) for i in range(0,len(digits)-4)]\n",
    "    return max(numlist)"
   ]
  },
  {
   "cell_type": "code",
   "execution_count": null,
   "metadata": {},
   "outputs": [],
   "source": []
  },
  {
   "cell_type": "code",
   "execution_count": null,
   "metadata": {},
   "outputs": [],
   "source": [
    "def generate_integers(m, n): \n",
    "    return list(range(m,n))"
   ]
  },
  {
   "cell_type": "code",
   "execution_count": null,
   "metadata": {},
   "outputs": [],
   "source": [
    "generate_integers(2,5)"
   ]
  },
  {
   "cell_type": "markdown",
   "metadata": {},
   "source": [
    "**Array.diff**"
   ]
  },
  {
   "cell_type": "code",
   "execution_count": null,
   "metadata": {},
   "outputs": [],
   "source": [
    "def array_diff(a, b):\n",
    "    for i in b:\n",
    "        for j in a:\n",
    "            if i in a:\n",
    "                a.remove(i)\n",
    "    return a"
   ]
  },
  {
   "cell_type": "code",
   "execution_count": null,
   "metadata": {},
   "outputs": [],
   "source": [
    "#MUCH better...\n",
    "def array_diff(a, b):\n",
    "    return [x for x in a if x not in b]"
   ]
  },
  {
   "cell_type": "code",
   "execution_count": null,
   "metadata": {},
   "outputs": [],
   "source": []
  },
  {
   "cell_type": "code",
   "execution_count": null,
   "metadata": {},
   "outputs": [],
   "source": [
    "import string"
   ]
  },
  {
   "cell_type": "code",
   "execution_count": null,
   "metadata": {},
   "outputs": [],
   "source": [
    "x='abc'\n",
    "x = string.ascii_lowercase"
   ]
  },
  {
   "cell_type": "code",
   "execution_count": null,
   "metadata": {},
   "outputs": [],
   "source": [
    "x"
   ]
  },
  {
   "cell_type": "code",
   "execution_count": null,
   "metadata": {},
   "outputs": [],
   "source": [
    "def is_pangram(s):\n",
    "     return not set('abcdefghijklmnopqrstuvwxyz') - set(s.lower())"
   ]
  },
  {
   "cell_type": "markdown",
   "metadata": {},
   "source": [
    "set() creates a data structure which can't have any duplicates in it, and here:\n",
    "\n",
    "The first set is the (English) alphabet letters, in lowercase\n",
    "The second set is the characters from the test string, also in lowercase. And all the duplicates are gone as well.\n",
    "Subtracting things like set(..) - set(..) returns the contents of the first set, minus the contents of the second set. set('abcde') - set('ace') == set('bd').\n",
    "\n",
    "In this pangram test:\n",
    "\n",
    "we take the characters in the test string away from the alphabet\n",
    "If there's nothing left, then the test string contained all the letters of the alphabet and must be a pangram.\n",
    "If there's something leftover, then the test string did not contain all the alphabet letters, so it must not be a pangram.\n",
    "\n",
    "any spaces, punctuation characters from the test string set were never in the alphabet set, so they don't matter.\n",
    "\n",
    "set(..) - set(..) will return an empty set, or a set with content. If we force sets into the simplest True/False values in Python, then containers with content are 'True' and empty containers are 'False'.\n",
    "\n",
    "So we're using not to check \"is there anything leftover?\" by forcing the result into a True/False value, depending on whether there's any leftovers or not.\n",
    "\n",
    "not also changes True -> False, and False -> True. Which is useful here, because (alphabet used up) -> an empty set which is False, but we want is_pangram to return True in that case. And vice-versa, (alphabet has some leftovers) -> a set of letters which is True, but we want is_pangram to return False for that.\n",
    "\n",
    "Then return that True/False result.\n",
    "\n",
    "is_pangram = lambda s: not set('abcdefghijklmnopqrstuvwxyz') - set(s.lower())"
   ]
  },
  {
   "cell_type": "markdown",
   "metadata": {},
   "source": [
    "**Unique In Order**"
   ]
  },
  {
   "cell_type": "code",
   "execution_count": null,
   "metadata": {},
   "outputs": [],
   "source": [
    "def unique_in_order(iterable):\n",
    "    list_1 = ['']\n",
    "    for i in iterable:\n",
    "        if i != list_1[-1]:\n",
    "            list_1.append(i)\n",
    "    list_1.remove('')\n",
    "    return list_1"
   ]
  },
  {
   "cell_type": "markdown",
   "metadata": {},
   "source": [
    "**Which are in?**"
   ]
  },
  {
   "cell_type": "code",
   "execution_count": null,
   "metadata": {},
   "outputs": [],
   "source": [
    "def in_array(array1, array2):\n",
    "    list_to_be_returned = []\n",
    "    for i in array1:\n",
    "        for j in array2:\n",
    "            if i in j and i not in list_to_be_returned:\n",
    "                list_to_be_returned.append(i)\n",
    "    \n",
    "    return sorted(list_to_be_returned)"
   ]
  },
  {
   "cell_type": "code",
   "execution_count": null,
   "metadata": {},
   "outputs": [],
   "source": [
    "in_array([\"live\", \"arp\", \"strong\"],[\"lively\", \"alive\", \"harp\", \"sharp\", \"armstrong\"])"
   ]
  },
  {
   "cell_type": "markdown",
   "metadata": {},
   "source": [
    "**Sum of Digits / Digital Root**"
   ]
  },
  {
   "cell_type": "code",
   "execution_count": 6,
   "metadata": {},
   "outputs": [],
   "source": [
    "def digital_root(n):\n",
    "    while len(str(n)) > 1:\n",
    "        list_n = []\n",
    "        for i in str(n):\n",
    "            list_n.append(int(i))\n",
    "        n = sum(list_n)\n",
    "    return n"
   ]
  },
  {
   "cell_type": "code",
   "execution_count": 7,
   "metadata": {},
   "outputs": [
    {
     "data": {
      "text/plain": [
       "3"
      ]
     },
     "execution_count": 7,
     "metadata": {},
     "output_type": "execute_result"
    }
   ],
   "source": [
    "digital_root(39)"
   ]
  },
  {
   "cell_type": "markdown",
   "metadata": {},
   "source": [
    "**Difference of 2**"
   ]
  },
  {
   "cell_type": "code",
   "execution_count": 12,
   "metadata": {},
   "outputs": [],
   "source": [
    "def twos_difference(lst): \n",
    "    list_of_tuples = []\n",
    "    for a in lst:\n",
    "        for b in lst:\n",
    "            if (b-a)==2:\n",
    "                list_of_tuples.append((a,b))\n",
    "    return sorted(list_of_tuples)"
   ]
  },
  {
   "cell_type": "code",
   "execution_count": 13,
   "metadata": {},
   "outputs": [
    {
     "data": {
      "text/plain": [
       "[(1, 3), (2, 4)]"
      ]
     },
     "execution_count": 13,
     "metadata": {},
     "output_type": "execute_result"
    }
   ],
   "source": [
    "twos_difference([1, 2, 3, 4])"
   ]
  },
  {
   "cell_type": "markdown",
   "metadata": {},
   "source": [
    "**Difference of 2 - very nice solution!!!!!!!!!!!!!**"
   ]
  },
  {
   "cell_type": "code",
   "execution_count": 14,
   "metadata": {},
   "outputs": [],
   "source": [
    "def twos_difference(a):\n",
    "    s = set(a)\n",
    "    return sorted((x, x + 2) for x in a if x + 2 in s)"
   ]
  },
  {
   "cell_type": "code",
   "execution_count": 15,
   "metadata": {},
   "outputs": [
    {
     "data": {
      "text/plain": [
       "[(1, 3), (2, 4)]"
      ]
     },
     "execution_count": 15,
     "metadata": {},
     "output_type": "execute_result"
    }
   ],
   "source": [
    "twos_difference([1, 2, 3, 4])"
   ]
  },
  {
   "cell_type": "markdown",
   "metadata": {},
   "source": [
    "**Number Zoo Patrol**"
   ]
  },
  {
   "cell_type": "code",
   "execution_count": 19,
   "metadata": {},
   "outputs": [],
   "source": [
    "#Very inefficient... (Created by Badea Vitiok)\n",
    "def find_missing_number(numbers):\n",
    "    if (sum(range(1,sorted(numbers)[-1]+1)) - sum(numbers)) == 0:\n",
    "        return sum(range(1,sorted(numbers)[-1]+2)) - sum(numbers)\n",
    "    else:\n",
    "        return sum(range(1,sorted(numbers)[-1]+1)) - sum(numbers)"
   ]
  },
  {
   "cell_type": "code",
   "execution_count": 45,
   "metadata": {},
   "outputs": [],
   "source": [
    "#takaia je hernea....not efficient... \n",
    "def find_missing_number(numbers):\n",
    "    if sorted(numbers) == list(range(1,sorted(numbers)[-1]+1)):\n",
    "        return sorted(numbers)[-1]+1\n",
    "    else:\n",
    "        return sum(range(1,sorted(numbers)[-1]+1)) - sum(numbers)"
   ]
  },
  {
   "cell_type": "code",
   "execution_count": 46,
   "metadata": {},
   "outputs": [
    {
     "data": {
      "text/plain": [
       "4"
      ]
     },
     "execution_count": 46,
     "metadata": {},
     "output_type": "execute_result"
    }
   ],
   "source": [
    "find_missing_number([1,2,3])"
   ]
  },
  {
   "cell_type": "code",
   "execution_count": 49,
   "metadata": {},
   "outputs": [],
   "source": [
    "#SUKA ---------try to optimize your code further.........\n",
    "def find_missing_number(numbers):\n",
    "    numbers = sorted(numbers)\n",
    "    end = numbers[-1]\n",
    "    if numbers == list(range(1,end+1)):\n",
    "        return end+1\n",
    "    else:\n",
    "        return sum(range(1,end+1)) - sum(numbers)"
   ]
  },
  {
   "cell_type": "code",
   "execution_count": 53,
   "metadata": {},
   "outputs": [],
   "source": [
    "def find_missing_number(numbers):\n",
    "    n = len(numbers) + 1\n",
    "    return n * (n + 1) // 2 - sum(numbers)"
   ]
  },
  {
   "cell_type": "code",
   "execution_count": 54,
   "metadata": {},
   "outputs": [
    {
     "data": {
      "text/plain": [
       "4"
      ]
     },
     "execution_count": 54,
     "metadata": {},
     "output_type": "execute_result"
    }
   ],
   "source": [
    "find_missing_number([1,2,3])"
   ]
  },
  {
   "cell_type": "markdown",
   "metadata": {},
   "source": [
    "**First non-repeating character**"
   ]
  },
  {
   "cell_type": "code",
   "execution_count": 87,
   "metadata": {},
   "outputs": [],
   "source": [
    "def first_non_repeating_letter(string):\n",
    "    chars = []\n",
    "    for letter in string:\n",
    "        string = string.lower()\n",
    "        if string.count(letter.lower())==1:\n",
    "            chars.append(letter)\n",
    "    if len(chars) > 0:\n",
    "        return chars[0]\n",
    "    else:\n",
    "        return ''"
   ]
  },
  {
   "cell_type": "code",
   "execution_count": 88,
   "metadata": {},
   "outputs": [
    {
     "data": {
      "text/plain": [
       "''"
      ]
     },
     "execution_count": 88,
     "metadata": {},
     "output_type": "execute_result"
    }
   ],
   "source": [
    "first_non_repeating_letter('')"
   ]
  },
  {
   "cell_type": "markdown",
   "metadata": {},
   "source": [
    "**Scramblies**"
   ]
  },
  {
   "cell_type": "code",
   "execution_count": 45,
   "metadata": {},
   "outputs": [],
   "source": [
    "def scramble(s1, s2):\n",
    "    return set(s2) <= set(s1)"
   ]
  },
  {
   "cell_type": "code",
   "execution_count": 46,
   "metadata": {},
   "outputs": [
    {
     "data": {
      "text/plain": [
       "True"
      ]
     },
     "execution_count": 46,
     "metadata": {},
     "output_type": "execute_result"
    }
   ],
   "source": [
    "scramble('sdfs','')"
   ]
  },
  {
   "cell_type": "markdown",
   "metadata": {},
   "source": [
    "**String Letter Counting**"
   ]
  },
  {
   "cell_type": "code",
   "execution_count": 107,
   "metadata": {},
   "outputs": [],
   "source": [
    "def string_letter_count(s):\n",
    "    \n",
    "    s_list = []\n",
    "    \n",
    "    s = s.lower()\n",
    "    \n",
    "    for letter in s:\n",
    "        if letter in 'abcdefghijklmnopqrstuvwxyz':\n",
    "            s_list.append(letter)\n",
    "    set_list = sorted(list(set(s_list)))\n",
    "    \n",
    "    count_list = []\n",
    "    \n",
    "    for letter_count in set_list:\n",
    "        count_list.append(s_list.count(letter_count))\n",
    "        \n",
    "    final_result = ''\n",
    "    x = 0\n",
    "    for i in count_list:\n",
    "        final_result = final_result + str(i) + set_list[x]\n",
    "        x += 1\n",
    "    \n",
    "    return final_result"
   ]
  },
  {
   "cell_type": "code",
   "execution_count": 108,
   "metadata": {},
   "outputs": [
    {
     "data": {
      "text/plain": [
       "'2a1d5e1g1h4i1j2m3n3o3s6t1u2w2y'"
      ]
     },
     "execution_count": 108,
     "metadata": {},
     "output_type": "execute_result"
    }
   ],
   "source": [
    "string_letter_count('The time you enjoy wasting is not wasted time.829374239847')"
   ]
  },
  {
   "cell_type": "code",
   "execution_count": 109,
   "metadata": {},
   "outputs": [],
   "source": [
    "#Better one..\n",
    "def string_letter_count(s):\n",
    "    s = s.lower()\n",
    "    m = ''\n",
    "    for i in sorted(list(set(s))):\n",
    "        if i.islower():\n",
    "            m += str(s.count(i)) + i\n",
    "    return m"
   ]
  },
  {
   "cell_type": "code",
   "execution_count": 110,
   "metadata": {},
   "outputs": [
    {
     "data": {
      "text/plain": [
       "'2a1d5e1g1h4i1j2m3n3o3s6t1u2w2y'"
      ]
     },
     "execution_count": 110,
     "metadata": {},
     "output_type": "execute_result"
    }
   ],
   "source": [
    "string_letter_count('The time you enjoy wasting is not wasted time.829374239847')"
   ]
  },
  {
   "cell_type": "markdown",
   "metadata": {},
   "source": [
    "**Irreducible Sum of Rationals**"
   ]
  },
  {
   "cell_type": "code",
   "execution_count": 173,
   "metadata": {},
   "outputs": [],
   "source": [
    "from numpy import prod\n",
    "def sum_fracts(lst):\n",
    "    \n",
    "    list_numers = []\n",
    "    list_denoms = []\n",
    "    \n",
    "    for i in lst:\n",
    "        list_numers.append(i[0])\n",
    "        list_denoms.append(i[1])\n",
    "    \n",
    "    denom = prod(list_denoms)\n",
    "    numer = 0\n",
    "    x = 0\n",
    "    for j in list_denoms:\n",
    "        numer = numer + list_numers[x]*(denom/j)\n",
    "        x = x + 1\n",
    "    \n",
    "    for n in range(2,denom+1):\n",
    "        if (numer%n == 0) and (denom%n==0):\n",
    "            numer = numer / n\n",
    "            denom = denom / n\n",
    "    \n",
    "    if (numer % denom) == 0:\n",
    "        return int(numer/denom)\n",
    "    else:\n",
    "        return [int(numer),int(denom)]"
   ]
  },
  {
   "cell_type": "code",
   "execution_count": 174,
   "metadata": {},
   "outputs": [
    {
     "data": {
      "text/plain": [
       "2"
      ]
     },
     "execution_count": 174,
     "metadata": {},
     "output_type": "execute_result"
    }
   ],
   "source": [
    "sum_fracts([[1, 3], [5, 3]])"
   ]
  },
  {
   "cell_type": "code",
   "execution_count": 175,
   "metadata": {},
   "outputs": [],
   "source": [
    "from fractions import Fraction\n",
    "\n",
    "def sum_fracts(lst):\n",
    "    if lst:\n",
    "        ret = sum(Fraction(a, b) for (a, b) in lst)\n",
    "        return ret.numerator if ret.denominator == 1 else [ret.numerator, ret.denominator]"
   ]
  },
  {
   "cell_type": "code",
   "execution_count": 176,
   "metadata": {},
   "outputs": [
    {
     "data": {
      "text/plain": [
       "2"
      ]
     },
     "execution_count": 176,
     "metadata": {},
     "output_type": "execute_result"
    }
   ],
   "source": [
    "sum_fracts([[1, 3], [5, 3]])"
   ]
  },
  {
   "cell_type": "markdown",
   "metadata": {},
   "source": [
    "**Break camelCase**"
   ]
  },
  {
   "cell_type": "code",
   "execution_count": 194,
   "metadata": {},
   "outputs": [],
   "source": [
    "import re\n",
    "def solution(s):\n",
    "    return re.sub(r'(?=[A-Z])', ' ', s)"
   ]
  },
  {
   "cell_type": "code",
   "execution_count": 195,
   "metadata": {},
   "outputs": [
    {
     "data": {
      "text/plain": [
       "'hello World'"
      ]
     },
     "execution_count": 195,
     "metadata": {},
     "output_type": "execute_result"
    }
   ],
   "source": [
    "solution(\"helloWorld\")"
   ]
  },
  {
   "cell_type": "code",
   "execution_count": 196,
   "metadata": {},
   "outputs": [],
   "source": [
    "#another one\n",
    "def solution(s):\n",
    "    return ''.join(' ' + c if c.isupper() else c for c in s)\n",
    "\n",
    "#in a more understandable way...\n",
    "def solution(s):\n",
    "    empty_string = ''\n",
    "    for char in s:\n",
    "        if char.isupper():\n",
    "            empty_string = empty_string + ' ' + char\n",
    "        else:\n",
    "            empty_string = empty_string + char\n",
    "    return empty_string"
   ]
  },
  {
   "cell_type": "code",
   "execution_count": 197,
   "metadata": {},
   "outputs": [
    {
     "data": {
      "text/plain": [
       "'hello World'"
      ]
     },
     "execution_count": 197,
     "metadata": {},
     "output_type": "execute_result"
    }
   ],
   "source": [
    "solution(\"helloWorld\")"
   ]
  },
  {
   "cell_type": "markdown",
   "metadata": {},
   "source": [
    "**Almost Even**"
   ]
  },
  {
   "cell_type": "code",
   "execution_count": 204,
   "metadata": {},
   "outputs": [],
   "source": [
    "def splitInteger(num,parts):\n",
    "    i = num // parts\n",
    "    bigParts = num % parts\n",
    "    return [i] * (parts - bigParts) + [i + 1] * bigParts"
   ]
  },
  {
   "cell_type": "code",
   "execution_count": 205,
   "metadata": {},
   "outputs": [
    {
     "data": {
      "text/plain": [
       "[4, 4, 4, 4, 4]"
      ]
     },
     "execution_count": 205,
     "metadata": {},
     "output_type": "execute_result"
    }
   ],
   "source": [
    "split_integer(20, 5)"
   ]
  },
  {
   "cell_type": "markdown",
   "metadata": {},
   "source": [
    "**Polite numbers**"
   ]
  },
  {
   "cell_type": "code",
   "execution_count": 221,
   "metadata": {},
   "outputs": [],
   "source": [
    "def consecutive_ducks(n):\n",
    "    if (n != 0) and (n & (n-1) == 0):\n",
    "        return False\n",
    "    else:\n",
    "        return True"
   ]
  },
  {
   "cell_type": "code",
   "execution_count": 222,
   "metadata": {},
   "outputs": [
    {
     "data": {
      "text/plain": [
       "False"
      ]
     },
     "execution_count": 222,
     "metadata": {},
     "output_type": "execute_result"
    }
   ],
   "source": [
    "consecutive_ducks(32)"
   ]
  },
  {
   "cell_type": "markdown",
   "metadata": {},
   "source": [
    "**Sum even numbers**"
   ]
  },
  {
   "cell_type": "code",
   "execution_count": 226,
   "metadata": {},
   "outputs": [],
   "source": [
    "def sum_even_numbers(seq):\n",
    "    if len(seq)==0:\n",
    "        return 0\n",
    "    else:\n",
    "        num = 0\n",
    "        for n in seq:\n",
    "            if n%2==0:\n",
    "                num +=n\n",
    "        return num"
   ]
  },
  {
   "cell_type": "code",
   "execution_count": 227,
   "metadata": {},
   "outputs": [
    {
     "data": {
      "text/plain": [
       "3"
      ]
     },
     "execution_count": 227,
     "metadata": {},
     "output_type": "execute_result"
    }
   ],
   "source": [
    "num(num+=n if len(seq)!=0 else 0 for n in seq)"
   ]
  },
  {
   "cell_type": "code",
   "execution_count": 234,
   "metadata": {},
   "outputs": [],
   "source": [
    "def sum_even_numbers(seq): \n",
    "    return sum(x for x in seq if x%2==0)"
   ]
  },
  {
   "cell_type": "code",
   "execution_count": 235,
   "metadata": {},
   "outputs": [
    {
     "data": {
      "text/plain": [
       "0"
      ]
     },
     "execution_count": 235,
     "metadata": {},
     "output_type": "execute_result"
    }
   ],
   "source": [
    "sum_even_numbers([])"
   ]
  },
  {
   "cell_type": "markdown",
   "metadata": {},
   "source": [
    "**Basic Calculator**"
   ]
  },
  {
   "cell_type": "code",
   "execution_count": 240,
   "metadata": {},
   "outputs": [],
   "source": [
    "def calculate(num1, operation, num2):\n",
    "    if operation =='+':\n",
    "        return sum([num1,num2])\n",
    "    elif operation =='-':\n",
    "        return num1 - num2\n",
    "    elif operation=='*':\n",
    "        return num1*num2\n",
    "    elif operation=='/' and num2 == 0:\n",
    "        return None\n",
    "    elif operation=='/':\n",
    "        return num1/num2\n",
    "    else:\n",
    "        return None"
   ]
  },
  {
   "cell_type": "code",
   "execution_count": 241,
   "metadata": {},
   "outputs": [
    {
     "data": {
      "text/plain": [
       "11.2"
      ]
     },
     "execution_count": 241,
     "metadata": {},
     "output_type": "execute_result"
    }
   ],
   "source": [
    "calculate(3.2,\"+\", 8)"
   ]
  },
  {
   "cell_type": "markdown",
   "metadata": {},
   "source": [
    "**Computer problem series #1: Fill the Hard Disk Drive**"
   ]
  },
  {
   "cell_type": "code",
   "execution_count": 244,
   "metadata": {},
   "outputs": [],
   "source": [
    "def save(sizes, hd):\n",
    "    total_size = 0\n",
    "    list_of_files = []\n",
    "    for i in sizes:\n",
    "        total_size +=i\n",
    "        if total_size<=hd:\n",
    "            list_of_files.append(i)\n",
    "    return len(list_of_files)"
   ]
  },
  {
   "cell_type": "markdown",
   "metadata": {},
   "source": [
    "**Strings: starts with**"
   ]
  },
  {
   "cell_type": "code",
   "execution_count": 5,
   "metadata": {},
   "outputs": [],
   "source": [
    "def starts_with(st, prefix):\n",
    "    if prefix == '':\n",
    "        return True\n",
    "    elif prefix == st[0:len(prefix)]:\n",
    "        return True\n",
    "    else:\n",
    "        return False"
   ]
  },
  {
   "cell_type": "code",
   "execution_count": 6,
   "metadata": {},
   "outputs": [],
   "source": [
    "#Better one....\n",
    "def starts_with(st, prefix): \n",
    "    return st.startswith(prefix)"
   ]
  },
  {
   "cell_type": "markdown",
   "metadata": {},
   "source": [
    "**Find Screen Size**"
   ]
  },
  {
   "cell_type": "code",
   "execution_count": 9,
   "metadata": {},
   "outputs": [],
   "source": [
    "def find_screen_height(width, ratio):\n",
    "    return str(width) + 'x' + str(int(width/(int(ratio.split(':')[0])/int(ratio.split(':')[1]))))"
   ]
  },
  {
   "cell_type": "markdown",
   "metadata": {},
   "source": [
    "**Find the Middle of the Product**"
   ]
  },
  {
   "cell_type": "code",
   "execution_count": 96,
   "metadata": {},
   "outputs": [],
   "source": [
    "import re\n",
    "from numpy import prod\n",
    "def find_middle(string):\n",
    "    if type(string) == str:\n",
    "        if '0' in string:\n",
    "            return -1\n",
    "        else:\n",
    "            try:\n",
    "                s = str(prod([int(x) for x in re.sub(r'(\\D)', '', string)]))\n",
    "                return int(s[int(len(s)//2)]) if (len(s) % 2 == 1) else int(s[int(len(s)//2-1):int((len(s)//2)+1)])\n",
    "            except ValueError:\n",
    "                pass\n",
    "    else:\n",
    "        return -1"
   ]
  },
  {
   "cell_type": "code",
   "execution_count": 97,
   "metadata": {},
   "outputs": [
    {
     "data": {
      "text/plain": [
       "6"
      ]
     },
     "execution_count": 97,
     "metadata": {},
     "output_type": "execute_result"
    }
   ],
   "source": [
    "find_middle('58jd9f76567546786765545467gh/fgh6s.,sdf')"
   ]
  },
  {
   "cell_type": "markdown",
   "metadata": {},
   "source": [
    "**Alternate capitalization**"
   ]
  },
  {
   "cell_type": "code",
   "execution_count": 116,
   "metadata": {},
   "outputs": [],
   "source": [
    "def capitalize(s):\n",
    "    return [''.join(j.upper() if i%2==0 else j for i,j in enumerate(s)),''.join(b.upper() if a%2==1 else b for a,b in enumerate(s))]"
   ]
  },
  {
   "cell_type": "code",
   "execution_count": 117,
   "metadata": {},
   "outputs": [
    {
     "data": {
      "text/plain": [
       "['AbCdEf', 'aBcDeF']"
      ]
     },
     "execution_count": 117,
     "metadata": {},
     "output_type": "execute_result"
    }
   ],
   "source": [
    "capitalize(\"abcdef\")"
   ]
  },
  {
   "cell_type": "code",
   "execution_count": 119,
   "metadata": {},
   "outputs": [],
   "source": [
    "#Smarter way of doing it....eto vooopshe na toniusenkovo\n",
    "def capitalize(s):\n",
    "    s = ''.join(c if i%2 else c.upper() for i,c in enumerate(s))\n",
    "    return [s, s.swapcase()]"
   ]
  },
  {
   "cell_type": "code",
   "execution_count": 120,
   "metadata": {},
   "outputs": [
    {
     "data": {
      "text/plain": [
       "['AbCdEf', 'aBcDeF']"
      ]
     },
     "execution_count": 120,
     "metadata": {},
     "output_type": "execute_result"
    }
   ],
   "source": [
    "capitalize(\"abcdef\")"
   ]
  },
  {
   "cell_type": "markdown",
   "metadata": {},
   "source": [
    "**Split In Parts**"
   ]
  },
  {
   "cell_type": "code",
   "execution_count": 130,
   "metadata": {},
   "outputs": [],
   "source": [
    "def split_in_parts(s, part_length):\n",
    "    l = 0\n",
    "    h = part_length\n",
    "    add = True\n",
    "    list_to_return = []\n",
    "    while add:\n",
    "        if len(s[l:h]) != 0:\n",
    "            list_to_return.append(s[l:h])\n",
    "            l+=part_length\n",
    "            h+=part_length\n",
    "        else:\n",
    "            break\n",
    "    return ' '.join(x for x in list_to_return)"
   ]
  },
  {
   "cell_type": "code",
   "execution_count": 131,
   "metadata": {},
   "outputs": [
    {
     "data": {
      "text/plain": [
       "'sup erc ali fra gil ist ice xpi ali doc iou s'"
      ]
     },
     "execution_count": 131,
     "metadata": {},
     "output_type": "execute_result"
    }
   ],
   "source": [
    "split_in_parts(\"supercalifragilisticexpialidocious\", 3)"
   ]
  },
  {
   "cell_type": "code",
   "execution_count": null,
   "metadata": {},
   "outputs": [],
   "source": [
    "#CLEVER...\n",
    "def split_in_parts(s, n): \n",
    "    return ' '.join([s[i:i+n] for i in range(0, len(s), n)])"
   ]
  },
  {
   "cell_type": "markdown",
   "metadata": {},
   "source": [
    "**Half Life**"
   ]
  },
  {
   "cell_type": "code",
   "execution_count": 132,
   "metadata": {},
   "outputs": [],
   "source": [
    "from datetime import datetime as dt\n",
    "\n",
    "def half_life(p1, p2):\n",
    "    d1, d2 = (dt.strptime(p, \"%Y-%m-%d\") for p in sorted((p1, p2)))\n",
    "    return (d2 + (d2 - d1)).strftime(\"%Y-%m-%d\")"
   ]
  },
  {
   "cell_type": "markdown",
   "metadata": {},
   "source": [
    "**Find the area of the rectangle!**"
   ]
  },
  {
   "cell_type": "code",
   "execution_count": 138,
   "metadata": {},
   "outputs": [],
   "source": [
    "def area(d, l): \n",
    "    return \"Not a rectangle\" if d<=l else round( l*(d*d-l*l)**.5, 2)"
   ]
  },
  {
   "cell_type": "markdown",
   "metadata": {},
   "source": [
    "**Are the numbers in order?**"
   ]
  },
  {
   "cell_type": "code",
   "execution_count": 143,
   "metadata": {},
   "outputs": [],
   "source": [
    "def in_asc_order(arr):\n",
    "    return arr == sorted(list(set(arr)))"
   ]
  },
  {
   "cell_type": "code",
   "execution_count": 144,
   "metadata": {},
   "outputs": [
    {
     "name": "stdout",
     "output_type": "stream",
     "text": [
      "[1, 4, 13, 97, 508, 1047, 20058]\n",
      "{1, 97, 4, 13, 1047, 20058, 508}\n"
     ]
    },
    {
     "data": {
      "text/plain": [
       "True"
      ]
     },
     "execution_count": 144,
     "metadata": {},
     "output_type": "execute_result"
    }
   ],
   "source": [
    "in_asc_order([1,4,13,97,508,1047,20058])"
   ]
  },
  {
   "cell_type": "markdown",
   "metadata": {},
   "source": [
    "**What dominates your array?**"
   ]
  },
  {
   "cell_type": "code",
   "execution_count": 158,
   "metadata": {},
   "outputs": [],
   "source": [
    "#Vitiok was here...made by vitiok...\n",
    "import collections\n",
    "def dominator(arr):\n",
    "    coll = collections.Counter(arr).most_common(2) \n",
    "    if len(arr)==0:\n",
    "        return -1\n",
    "    elif len(arr)==1 and len(set(arr))==0:\n",
    "        return arr[0]\n",
    "    else:\n",
    "        return coll[0][0] if coll[0][1] > coll[1][1] else -1"
   ]
  },
  {
   "cell_type": "code",
   "execution_count": 181,
   "metadata": {},
   "outputs": [],
   "source": [
    "def dominator(arr):\n",
    "    if len(arr)==0:\n",
    "        return -1\n",
    "    elif len(arr)==1 or set(arr)==1:\n",
    "        return arr[0]\n",
    "    x = []\n",
    "    for i in set(arr):\n",
    "        x.append(arr.count(i))\n",
    "    x = sorted(x,reverse=True)\n",
    "    \n",
    "    return max(set(arr),key=arr.count) if x[0]>x[1] and x[0]>(len(arr)/2) else -1"
   ]
  },
  {
   "cell_type": "code",
   "execution_count": 182,
   "metadata": {},
   "outputs": [
    {
     "data": {
      "text/plain": [
       "-1"
      ]
     },
     "execution_count": 182,
     "metadata": {},
     "output_type": "execute_result"
    }
   ],
   "source": [
    "dominator([5, 6, 1, 4, 6, 5, 4, 1, 10, 5, 5, 5, 1, 5, 5, 9])"
   ]
  },
  {
   "cell_type": "code",
   "execution_count": 183,
   "metadata": {},
   "outputs": [],
   "source": [
    "#Vitiok dolbaeb....\n",
    "def dominator(arr):\n",
    "    for x in set(arr):\n",
    "        if arr.count(x) > len(arr)/2.0:\n",
    "            return x\n",
    "    return -1"
   ]
  },
  {
   "cell_type": "markdown",
   "metadata": {},
   "source": [
    "**Find all occurrences of an element in an array**"
   ]
  },
  {
   "cell_type": "code",
   "execution_count": 187,
   "metadata": {},
   "outputs": [],
   "source": [
    "def find_all(array, n):\n",
    "    if not n in array:\n",
    "        return []\n",
    "    return [i for i,j in enumerate(array)if (n in array) and j == n]"
   ]
  },
  {
   "cell_type": "code",
   "execution_count": 188,
   "metadata": {},
   "outputs": [
    {
     "data": {
      "text/plain": [
       "[[], [], 2, [], 4, [], []]"
      ]
     },
     "execution_count": 188,
     "metadata": {},
     "output_type": "execute_result"
    }
   ],
   "source": [
    "find_all([6, 9, 3, 4, 3, 82, 11], 3)"
   ]
  },
  {
   "cell_type": "markdown",
   "metadata": {},
   "source": [
    "**Sum of odd numbers**"
   ]
  },
  {
   "cell_type": "code",
   "execution_count": 217,
   "metadata": {},
   "outputs": [],
   "source": [
    "def row_sum_odd_numbers(n):\n",
    "    x = [] #final list...\n",
    "    \n",
    "    for i in range(1,(sum(list(range(1,n+1)))*2),2):\n",
    "        x.append(i)\n",
    "    \n",
    "    return sum(x[-n:])"
   ]
  },
  {
   "cell_type": "code",
   "execution_count": 218,
   "metadata": {},
   "outputs": [
    {
     "data": {
      "text/plain": [
       "8"
      ]
     },
     "execution_count": 218,
     "metadata": {},
     "output_type": "execute_result"
    }
   ],
   "source": [
    "row_sum_odd_numbers(2)"
   ]
  },
  {
   "cell_type": "code",
   "execution_count": 219,
   "metadata": {},
   "outputs": [],
   "source": [
    "#PIZDETZ..........\n",
    "def row_sum_odd_numbers(n):\n",
    "    #your code here\n",
    "    return n ** 3"
   ]
  },
  {
   "cell_type": "markdown",
   "metadata": {},
   "source": [
    "**Simple Fun #74: Growing Plant**"
   ]
  },
  {
   "cell_type": "code",
   "execution_count": 220,
   "metadata": {},
   "outputs": [],
   "source": [
    "def growing_plant(upSpeed, downSpeed, desiredHeight):\n",
    "    if desiredHeight == 0:\n",
    "        return 1\n",
    "    plant = 0\n",
    "    days = 0\n",
    "    while plant < desiredHeight:\n",
    "        plant+= upSpeed\n",
    "        days += 1\n",
    "        if plant < desiredHeight:\n",
    "            plant -= downSpeed\n",
    "    \n",
    "    return days"
   ]
  },
  {
   "cell_type": "code",
   "execution_count": 221,
   "metadata": {},
   "outputs": [],
   "source": [
    "#A clever one...\n",
    "from math import ceil\n",
    "\n",
    "def growing_plant(up, down, h):\n",
    "    return max(ceil((h - down) / (up - down)), 1)"
   ]
  },
  {
   "cell_type": "markdown",
   "metadata": {},
   "source": [
    "**No oddities here**"
   ]
  },
  {
   "cell_type": "code",
   "execution_count": 222,
   "metadata": {},
   "outputs": [],
   "source": [
    "def no_odds(values):\n",
    "    return list(filter(lambda x: x%2==0,values))"
   ]
  },
  {
   "cell_type": "markdown",
   "metadata": {},
   "source": [
    "**Rot13**"
   ]
  },
  {
   "cell_type": "code",
   "execution_count": 257,
   "metadata": {},
   "outputs": [],
   "source": [
    "import string\n",
    "def rot13(message):\n",
    "    \n",
    "    x = ''\n",
    "    low = string.ascii_lowercase*2\n",
    "    upp = string.ascii_uppercase*2\n",
    "    for i in message:\n",
    "        if i in low:\n",
    "            x = x + low[low.index(i)+13]\n",
    "        elif i in upp:\n",
    "            x = x + upp[upp.index(i)+13]\n",
    "        else:\n",
    "            x += i\n",
    "    return x"
   ]
  },
  {
   "cell_type": "code",
   "execution_count": 258,
   "metadata": {},
   "outputs": [
    {
     "data": {
      "text/plain": [
       "'grfg'"
      ]
     },
     "execution_count": 258,
     "metadata": {},
     "output_type": "execute_result"
    }
   ],
   "source": [
    "rot13(\"test\")"
   ]
  },
  {
   "cell_type": "code",
   "execution_count": 260,
   "metadata": {},
   "outputs": [],
   "source": [
    "import string\n",
    "\n",
    "def rot13(message):\n",
    "    return message.encode(\"rot13\")"
   ]
  },
  {
   "cell_type": "markdown",
   "metadata": {},
   "source": [
    "**Halving Sum**"
   ]
  },
  {
   "cell_type": "code",
   "execution_count": 4,
   "metadata": {},
   "outputs": [],
   "source": [
    "def halving_sum(n):\n",
    "    x = 1\n",
    "    while n > 1:\n",
    "        x = x + n\n",
    "        n = n // 2\n",
    "    return x"
   ]
  },
  {
   "cell_type": "code",
   "execution_count": 3,
   "metadata": {},
   "outputs": [
    {
     "data": {
      "text/plain": [
       "2"
      ]
     },
     "execution_count": 3,
     "metadata": {},
     "output_type": "execute_result"
    }
   ],
   "source": [
    "5//2"
   ]
  },
  {
   "cell_type": "markdown",
   "metadata": {},
   "source": [
    "**Duplicate Encoder**"
   ]
  },
  {
   "cell_type": "code",
   "execution_count": 55,
   "metadata": {},
   "outputs": [],
   "source": [
    "def duplicate_encode(word):\n",
    "    word = word.lower()\n",
    "    final_word = ''\n",
    "    for i in word:\n",
    "        if word.count(i) > 1:\n",
    "            final_word+=(')')\n",
    "        else:\n",
    "            final_word+=('(')\n",
    "    return final_word"
   ]
  },
  {
   "cell_type": "code",
   "execution_count": 59,
   "metadata": {},
   "outputs": [],
   "source": [
    "def duplicate_encode(word):\n",
    "    return ''.join(')' if word.lower().count(i) > 1 else ('(') for i in word.lower())"
   ]
  },
  {
   "cell_type": "code",
   "execution_count": 60,
   "metadata": {},
   "outputs": [
    {
     "data": {
      "text/plain": [
       "'))())))())))))()))))))))))))))))))))))())()))(())))))))'"
      ]
     },
     "execution_count": 60,
     "metadata": {},
     "output_type": "execute_result"
    }
   ],
   "source": [
    "duplicate_encode('982u43grbfcji9xs0u8gyu34bfjie9c0huybh31jdq90ewvhubdchjs')"
   ]
  },
  {
   "cell_type": "markdown",
   "metadata": {},
   "source": [
    "**Backwards Read Primes**"
   ]
  },
  {
   "cell_type": "code",
   "execution_count": 39,
   "metadata": {},
   "outputs": [],
   "source": [
    "import math\n",
    "def isPrime(n):\n",
    "    checkNum = int(math.sqrt(n))\n",
    "    for i in range(1,checkNum+1):\n",
    "        if n%i == 0 and i != 1:\n",
    "            return False\n",
    "    return True\n",
    "def backwardsPrime(start, stop):\n",
    "    backwardsPrimes = []\n",
    "    \n",
    "    for i in range(start,stop+1):\n",
    "        if isPrime(i) == True:\n",
    "            reversedPrime = int(str(i)[::-1])\n",
    "            if isPrime(reversedPrime) and reversedPrime != i:\n",
    "                backwardsPrimes.append(i)\n",
    "    return backwardsPrimes"
   ]
  },
  {
   "cell_type": "code",
   "execution_count": 58,
   "metadata": {},
   "outputs": [
    {
     "data": {
      "text/plain": [
       "[7043]"
      ]
     },
     "execution_count": 58,
     "metadata": {},
     "output_type": "execute_result"
    }
   ],
   "source": [
    "backwards_prime(6000,7100)"
   ]
  },
  {
   "cell_type": "markdown",
   "metadata": {},
   "source": [
    "**Basics 03: Strings, Numbers and Calculation**"
   ]
  },
  {
   "cell_type": "code",
   "execution_count": 71,
   "metadata": {},
   "outputs": [],
   "source": [
    "import re\n",
    "\n",
    "def calculate_string(st): \n",
    "    st = re.sub(r'[^-+*/\\d.]', '', st)\n",
    "    result = eval(st)\n",
    "    return str(int(round(result)))"
   ]
  },
  {
   "cell_type": "code",
   "execution_count": 78,
   "metadata": {},
   "outputs": [
    {
     "data": {
      "text/plain": [
       "'23534.45544234-234442'"
      ]
     },
     "execution_count": 78,
     "metadata": {},
     "output_type": "execute_result"
    }
   ],
   "source": [
    "calculate_string('fsdfsd235???34.4554s4234df-sdfgf2g3h4j442')"
   ]
  },
  {
   "cell_type": "markdown",
   "metadata": {},
   "source": [
    "**Josephus Survivor**"
   ]
  },
  {
   "cell_type": "code",
   "execution_count": 81,
   "metadata": {},
   "outputs": [],
   "source": [
    "def josephus_survivor(n,k):\n",
    "    x = list(range(1,n+1))\n",
    "    while True:\n",
    "        for i in x:\n",
    "            if len(x) < k:\n",
    "                x.pop(k-1)\n",
    "            else:\n",
    "                x.pop()\n",
    "        break\n",
    "    return x"
   ]
  },
  {
   "cell_type": "markdown",
   "metadata": {},
   "source": [
    "**FizzBuzz Array! (Custom)**"
   ]
  },
  {
   "cell_type": "code",
   "execution_count": 7,
   "metadata": {},
   "outputs": [],
   "source": [
    "def fizz_buzz_custom(string_one='Fizz', string_two='Buzz', num_one=3, num_two=5):\n",
    "    final_list=[]\n",
    "    for i in range(1,101):\n",
    "        if i%num_one == 0 and i%num_two == 0:\n",
    "            final_list.append(string_one+string_two)\n",
    "        elif i%num_one==0:\n",
    "            final_list.append(string_one)\n",
    "        elif i%num_two==0:\n",
    "            final_list.append(string_two)\n",
    "        else:\n",
    "            final_list.append(i)\n",
    "    \n",
    "    return final_list"
   ]
  },
  {
   "cell_type": "markdown",
   "metadata": {},
   "source": [
    "**Sum of all numbers with the same digits (performance edition)**"
   ]
  },
  {
   "cell_type": "code",
   "execution_count": 53,
   "metadata": {},
   "outputs": [],
   "source": [
    "from itertools import permutations \n",
    "  \n",
    "def sum_arrangements(num):\n",
    "    final_list = []\n",
    "    for i in list(permutations(list(str(num)))):\n",
    "        tup = ''\n",
    "        for j in i:\n",
    "            tup+=j\n",
    "            \n",
    "        final_list.append(int(tup))\n",
    "    return sum(final_list)"
   ]
  },
  {
   "cell_type": "code",
   "execution_count": 54,
   "metadata": {},
   "outputs": [
    {
     "data": {
      "text/plain": [
       "1332"
      ]
     },
     "execution_count": 54,
     "metadata": {},
     "output_type": "execute_result"
    }
   ],
   "source": [
    "sum_arrangements(123)"
   ]
  },
  {
   "cell_type": "code",
   "execution_count": 95,
   "metadata": {},
   "outputs": [],
   "source": [
    "from itertools import permutations \n",
    "  \n",
    "def sum_arrangements(num):\n",
    "    x = []\n",
    "    for i in str(num):\n",
    "        x.append(i)\n",
    "    return sum(list(map(lambda num: int(num),list(map(''.join,list(permutations(x)))))))"
   ]
  },
  {
   "cell_type": "code",
   "execution_count": 96,
   "metadata": {},
   "outputs": [
    {
     "data": {
      "text/plain": [
       "201599999798400"
      ]
     },
     "execution_count": 96,
     "metadata": {},
     "output_type": "execute_result"
    }
   ],
   "source": [
    "sum_arrangements(123456789)"
   ]
  },
  {
   "cell_type": "code",
   "execution_count": 87,
   "metadata": {},
   "outputs": [
    {
     "data": {
      "text/plain": [
       "1332"
      ]
     },
     "execution_count": 87,
     "metadata": {},
     "output_type": "execute_result"
    }
   ],
   "source": [
    "sum(list(map(lambda num: int(num),list(map(''.join,sum_arrangements(123))))))"
   ]
  },
  {
   "cell_type": "markdown",
   "metadata": {},
   "source": [
    "**Build Tower**"
   ]
  },
  {
   "cell_type": "code",
   "execution_count": 1,
   "metadata": {},
   "outputs": [],
   "source": [
    "def tower_builder(n_floors):\n",
    "    if n_floors == 1:\n",
    "        return ['*']\n",
    "    \n",
    "    else:\n",
    "        \n",
    "        spaces = n_floors - 1\n",
    "        floors = 1\n",
    "        lst = []\n",
    "        for floor in range(n_floors):\n",
    "            \n",
    "            to_append = ' '*spaces + '*'*floors + ' '*spaces\n",
    "            floors += 2\n",
    "            spaces -= 1\n",
    "            lst.append(to_append)\n",
    "    return lst"
   ]
  },
  {
   "cell_type": "code",
   "execution_count": null,
   "metadata": {},
   "outputs": [],
   "source": [
    "def tower_builder(n):\n",
    "    return [(\"*\" * (i*2-1)).center(n*2-1) for i in range(1, n+1)]"
   ]
  },
  {
   "cell_type": "markdown",
   "metadata": {},
   "source": [
    "**Validate Sudoku with size `NxN`**"
   ]
  },
  {
   "cell_type": "code",
   "execution_count": 57,
   "metadata": {},
   "outputs": [],
   "source": [
    "class Sudoku(object):\n",
    "    def __init__(self, data):\n",
    "        self.data = data\n",
    "    def is_valid(self):\n",
    "        return square(data)\n",
    "    def square(self):\n",
    "        self.rows = len(self.data)\n",
    "        for row in self.data:\n",
    "            if len(row) != self.rows:\n",
    "                return False\n",
    "        return True"
   ]
  },
  {
   "cell_type": "code",
   "execution_count": 58,
   "metadata": {},
   "outputs": [],
   "source": [
    "badSudoku1 = Sudoku([\n",
    "  [0,2,3, 4,5,6, 7,8,9],\n",
    "  [1,2,3, 4,5,6, 7,8,9],\n",
    "  [1,2,3, 4,5,6, 7,8,9],\n",
    "  \n",
    "  [1,2,3, 4,5,6, 7,8,9],\n",
    "  [1,2,3, 4,5,6, 7,8,9],\n",
    "  [1,2,3, 4,5,6, 7,8,9],\n",
    "  \n",
    "  [1,2,3, 4,5,6, 7,8,9],\n",
    "  [1,2,3, 4,5,6, 7,8,9],\n",
    "  [1,2,3, 4,5,6, 7,8,9]\n",
    "])"
   ]
  },
  {
   "cell_type": "code",
   "execution_count": 59,
   "metadata": {},
   "outputs": [
    {
     "data": {
      "text/plain": [
       "False"
      ]
     },
     "execution_count": 59,
     "metadata": {},
     "output_type": "execute_result"
    }
   ],
   "source": [
    "badSudoku2.is_valid()"
   ]
  },
  {
   "cell_type": "code",
   "execution_count": 60,
   "metadata": {},
   "outputs": [],
   "source": [
    "def is_valid(data):\n",
    "    def square(data):\n",
    "        rows = len(data)\n",
    "        for row in data:\n",
    "            if len(row) != rows:\n",
    "                return False\n",
    "        return True\n",
    "    if not square(data):\n",
    "        return False\n",
    "    "
   ]
  },
  {
   "cell_type": "code",
   "execution_count": 66,
   "metadata": {},
   "outputs": [
    {
     "data": {
      "text/plain": [
       "9"
      ]
     },
     "execution_count": 66,
     "metadata": {},
     "output_type": "execute_result"
    }
   ],
   "source": [
    "len(x[0])"
   ]
  },
  {
   "cell_type": "code",
   "execution_count": 67,
   "metadata": {},
   "outputs": [
    {
     "data": {
      "text/plain": [
       "45"
      ]
     },
     "execution_count": 67,
     "metadata": {},
     "output_type": "execute_result"
    }
   ],
   "source": [
    "sum([1,2,3,4,5,6,7,8,9])"
   ]
  },
  {
   "cell_type": "code",
   "execution_count": 69,
   "metadata": {},
   "outputs": [
    {
     "data": {
      "text/plain": [
       "45"
      ]
     },
     "execution_count": 69,
     "metadata": {},
     "output_type": "execute_result"
    }
   ],
   "source": [
    "sum(list(range(10)))"
   ]
  },
  {
   "cell_type": "code",
   "execution_count": 96,
   "metadata": {},
   "outputs": [],
   "source": [
    "import numpy as np\n",
    "from math import sqrt\n",
    "\n",
    "def check_rows(x):\n",
    "    expected_sum = sum(list(range(len(x[0])+1)))\n",
    "    \n",
    "    for row in x:\n",
    "        if sum(row) != expected_sum:\n",
    "            return False\n",
    "    return True\n",
    "\n",
    "def check_cols(x):\n",
    "    expected_sum = sum(list(range(len(x[0])+1)))\n",
    "    x = np.array(x)\n",
    "    x = x.transpose()\n",
    "    for row in x:\n",
    "        if sum(row) != expected_sum:\n",
    "            return False\n",
    "    return True\n",
    "\n",
    "def check_squares(x):\n",
    "    expected_sum = sum(list(range(len(x[0])+1)))\n",
    "    \n",
    "    n = int(sqrt(len(x)))\n",
    "    row = \n",
    "    col = \n",
    "    \n",
    "    for i in range(n):\n",
    "        for j in range(int(sqrt(len(x)))):\n",
    "            if "
   ]
  },
  {
   "cell_type": "code",
   "execution_count": 97,
   "metadata": {},
   "outputs": [
    {
     "data": {
      "text/plain": [
       "False"
      ]
     },
     "execution_count": 97,
     "metadata": {},
     "output_type": "execute_result"
    }
   ],
   "source": [
    "check_cols([[7, 8, 4, 1, 5, 9, 3, 2, 6],\n",
    "       [5, 3, 9, 7, 2, 8, 4, 1],\n",
    "       [6, 1, 2, 4, 3, 8, 7, 5, 9],\n",
    "       [9, 2, 8, 7, 1, 5, 4, 6, 3],\n",
    "       [3, 5, 7, 8, 4, 6, 1, 9, 2],\n",
    "       [4, 6, 1, 9, 2, 3, 5, 8, 7],\n",
    "       [8, 7, 6, 3, 9, 4, 2, 1, 5],\n",
    "       [2, 4, 3, 5, 6, 1, 9, 7, 8],\n",
    "       [1, 9, 5, 2, 8, 7, 6, 3, 4]])"
   ]
  },
  {
   "cell_type": "code",
   "execution_count": 77,
   "metadata": {},
   "outputs": [],
   "source": [
    "y = x.transpose()"
   ]
  },
  {
   "cell_type": "code",
   "execution_count": 104,
   "metadata": {},
   "outputs": [
    {
     "ename": "TypeError",
     "evalue": "can only concatenate list (not \"int\") to list",
     "output_type": "error",
     "traceback": [
      "\u001b[1;31m---------------------------------------------------------------------------\u001b[0m",
      "\u001b[1;31mTypeError\u001b[0m                                 Traceback (most recent call last)",
      "\u001b[1;32m<ipython-input-104-44b5166d0b17>\u001b[0m in \u001b[0;36m<module>\u001b[1;34m\u001b[0m\n\u001b[1;32m----> 1\u001b[1;33m \u001b[0msum\u001b[0m\u001b[1;33m(\u001b[0m\u001b[1;33m[\u001b[0m\u001b[1;36m1\u001b[0m\u001b[1;33m,\u001b[0m\u001b[1;36m2\u001b[0m\u001b[1;33m]\u001b[0m\u001b[1;33m,\u001b[0m\u001b[1;33m[\u001b[0m\u001b[1;36m3\u001b[0m\u001b[1;33m,\u001b[0m\u001b[1;36m4\u001b[0m\u001b[1;33m]\u001b[0m\u001b[1;33m)\u001b[0m\u001b[1;33m\u001b[0m\u001b[1;33m\u001b[0m\u001b[0m\n\u001b[0m",
      "\u001b[1;31mTypeError\u001b[0m: can only concatenate list (not \"int\") to list"
     ]
    }
   ],
   "source": []
  },
  {
   "cell_type": "code",
   "execution_count": 98,
   "metadata": {},
   "outputs": [],
   "source": [
    "from math import sqrt"
   ]
  },
  {
   "cell_type": "code",
   "execution_count": 102,
   "metadata": {},
   "outputs": [
    {
     "data": {
      "text/plain": [
       "[0, 1, 2]"
      ]
     },
     "execution_count": 102,
     "metadata": {},
     "output_type": "execute_result"
    }
   ],
   "source": [
    "list(range(int(sqrt(9))))"
   ]
  },
  {
   "cell_type": "markdown",
   "metadata": {},
   "source": [
    "**Delete occurrences of an element if it occurs more than n times**"
   ]
  },
  {
   "cell_type": "code",
   "execution_count": 14,
   "metadata": {},
   "outputs": [],
   "source": [
    "def delete_nth(order,max_e):\n",
    "    \n",
    "    lst = []\n",
    "    \n",
    "    for i in order:\n",
    "        \n",
    "        if lst.count(i) < max_e:\n",
    "            lst.append(i)\n",
    "    \n",
    "    return lst"
   ]
  },
  {
   "cell_type": "code",
   "execution_count": 15,
   "metadata": {},
   "outputs": [
    {
     "data": {
      "text/plain": [
       "[20, 37, 21]"
      ]
     },
     "execution_count": 15,
     "metadata": {},
     "output_type": "execute_result"
    }
   ],
   "source": [
    "delete_nth([20,37,20,21], 1)"
   ]
  },
  {
   "cell_type": "markdown",
   "metadata": {},
   "source": [
    "**Encrypt this!**"
   ]
  },
  {
   "cell_type": "code",
   "execution_count": 34,
   "metadata": {},
   "outputs": [],
   "source": [
    "def encrypt_this(text):\n",
    "    text = text.split()\n",
    "    lst = []\n",
    "    \n",
    "    def swap(i):\n",
    "        i = list(i)\n",
    "        i[0] = str(ord(i[0]))\n",
    "        i[1], i[-1] = i[-1], i[1]\n",
    "        return ''.join(i)\n",
    "    \n",
    "    for i in text:\n",
    "        \n",
    "        if i == '':\n",
    "            break\n",
    "        elif len(i) == 1:\n",
    "            lst.append(str(ord(i)))\n",
    "        elif len(i) == 2:\n",
    "            lst.append(str(ord(i[0]))+i[1:])\n",
    "        \n",
    "        else:\n",
    "            x = swap(i)\n",
    "            lst.append(x)\n",
    "    return ' '.join(lst)"
   ]
  },
  {
   "cell_type": "code",
   "execution_count": 35,
   "metadata": {},
   "outputs": [
    {
     "data": {
      "text/plain": [
       "'65 119esi 111dl 111lw 108dvei 105n 97n 111ka'"
      ]
     },
     "execution_count": 35,
     "metadata": {},
     "output_type": "execute_result"
    }
   ],
   "source": [
    "encrypt_this(\"A wise old owl lived in an oak\")"
   ]
  },
  {
   "cell_type": "markdown",
   "metadata": {},
   "source": [
    "**Split Strings**"
   ]
  },
  {
   "cell_type": "code",
   "execution_count": 8,
   "metadata": {},
   "outputs": [],
   "source": [
    "def solution(s):\n",
    "    if len(s)%2:\n",
    "        s = s+'_'\n",
    "    lst = []\n",
    "    n=2\n",
    "    for i in range(int(len(s)/2)):\n",
    "        lst.append(s[n-2:n])\n",
    "        n+=2\n",
    "    return lst"
   ]
  },
  {
   "cell_type": "code",
   "execution_count": 10,
   "metadata": {},
   "outputs": [
    {
     "data": {
      "text/plain": [
       "['as', 'df', 'ad', 'sf', 'a_']"
      ]
     },
     "execution_count": 10,
     "metadata": {},
     "output_type": "execute_result"
    }
   ],
   "source": [
    "solution('asdfadsfa')"
   ]
  },
  {
   "cell_type": "code",
   "execution_count": 83,
   "metadata": {},
   "outputs": [],
   "source": [
    "#Better one\n",
    "import re\n",
    "\n",
    "def solution(s):\n",
    "    return re.findall(\".{2}\", s + \"_\")"
   ]
  },
  {
   "cell_type": "markdown",
   "metadata": {},
   "source": [
    "**Backspaces in string**"
   ]
  },
  {
   "cell_type": "code",
   "execution_count": 102,
   "metadata": {},
   "outputs": [],
   "source": [
    "def clean_string(s):\n",
    "    string = ''\n",
    "    for i in s:\n",
    "        if i == '#':\n",
    "            string = string[:-1]\n",
    "        else:\n",
    "            string += i\n",
    "    return string"
   ]
  },
  {
   "cell_type": "code",
   "execution_count": 104,
   "metadata": {},
   "outputs": [
    {
     "data": {
      "text/plain": [
       "'ac'"
      ]
     },
     "execution_count": 104,
     "metadata": {},
     "output_type": "execute_result"
    }
   ],
   "source": [
    "clean_string('abc#d##c')"
   ]
  },
  {
   "cell_type": "markdown",
   "metadata": {},
   "source": [
    "**Does my number look big in this?**"
   ]
  },
  {
   "cell_type": "code",
   "execution_count": 128,
   "metadata": {},
   "outputs": [],
   "source": [
    "import re\n",
    "from math import pow\n",
    "def narcissistic(value):\n",
    "    \n",
    "    nums = re.findall('[0-9]',str(value))\n",
    "    power = len(nums)\n",
    "    nums = map(int,nums)\n",
    "    \n",
    "    \n",
    "    def raise_pow(n):\n",
    "        return n**power\n",
    "    \n",
    "    return sum(map(raise_pow,nums))==value"
   ]
  },
  {
   "cell_type": "code",
   "execution_count": 129,
   "metadata": {},
   "outputs": [
    {
     "data": {
      "text/plain": [
       "False"
      ]
     },
     "execution_count": 129,
     "metadata": {},
     "output_type": "execute_result"
    }
   ],
   "source": [
    "narcissistic(1823)"
   ]
  },
  {
   "cell_type": "code",
   "execution_count": 130,
   "metadata": {},
   "outputs": [],
   "source": [
    "def narcissistic( value ):\n",
    "    value = str(value)\n",
    "    size = len(value)\n",
    "    sum = 0\n",
    "    for i in value:\n",
    "        sum += int(i) ** size\n",
    "    return sum == int(value)"
   ]
  },
  {
   "cell_type": "markdown",
   "metadata": {},
   "source": [
    "**Matrix Determinant**"
   ]
  },
  {
   "cell_type": "code",
   "execution_count": 141,
   "metadata": {},
   "outputs": [],
   "source": [
    "import numpy as np\n",
    "from math import ceil\n",
    "def determinant(matrix):\n",
    "    return ceil((np.linalg.det(matrix))-0.00001)"
   ]
  },
  {
   "cell_type": "code",
   "execution_count": 143,
   "metadata": {},
   "outputs": [
    {
     "data": {
      "text/plain": [
       "5"
      ]
     },
     "execution_count": 143,
     "metadata": {},
     "output_type": "execute_result"
    }
   ],
   "source": [
    "determinant([[5]])"
   ]
  },
  {
   "cell_type": "code",
   "execution_count": 146,
   "metadata": {},
   "outputs": [],
   "source": [
    "def determinant(m):\n",
    "    a = 0\n",
    "    if len(m) == 1:\n",
    "        a = m[0][0]\n",
    "    else:\n",
    "        for n in range(len(m)):\n",
    "            if (n + 1) % 2 == 0:\n",
    "                a -= m[0][n] * determinant([o[:n] + o[n+1:] for o in m[1:]])\n",
    "            else:\n",
    "                a += m[0][n] * determinant([o[:n] + o[n+1:] for o in m[1:]])\n",
    "                \n",
    "    return a"
   ]
  },
  {
   "cell_type": "code",
   "execution_count": 147,
   "metadata": {},
   "outputs": [
    {
     "data": {
      "text/plain": [
       "-20"
      ]
     },
     "execution_count": 147,
     "metadata": {},
     "output_type": "execute_result"
    }
   ],
   "source": [
    "determinant([ [2,5,3], [1,-2,-1], [1, 3, 4]])"
   ]
  },
  {
   "cell_type": "markdown",
   "metadata": {},
   "source": [
    "**Square into Squares**"
   ]
  },
  {
   "cell_type": "code",
   "execution_count": null,
   "metadata": {},
   "outputs": [],
   "source": [
    "def decompose(n):\n",
    "    "
   ]
  },
  {
   "cell_type": "code",
   "execution_count": 1,
   "metadata": {},
   "outputs": [],
   "source": [
    "def factorial(num):\n",
    "    \"\"\"This function calls itself to find\n",
    "    the factorial of a number\"\"\"\n",
    "\n",
    "    if num == 1:\n",
    "        return 1\n",
    "    else:\n",
    "        return (num * factorial(num - 1))"
   ]
  },
  {
   "cell_type": "code",
   "execution_count": 3,
   "metadata": {},
   "outputs": [
    {
     "data": {
      "text/plain": [
       "['a', 'b', 'c']"
      ]
     },
     "execution_count": 3,
     "metadata": {},
     "output_type": "execute_result"
    }
   ],
   "source": [
    "list('abc')"
   ]
  },
  {
   "cell_type": "code",
   "execution_count": 4,
   "metadata": {},
   "outputs": [
    {
     "data": {
      "text/plain": [
       "2"
      ]
     },
     "execution_count": 4,
     "metadata": {},
     "output_type": "execute_result"
    }
   ],
   "source": [
    "len('ab')"
   ]
  },
  {
   "cell_type": "code",
   "execution_count": 14,
   "metadata": {},
   "outputs": [],
   "source": [
    "def persistence(n):\n",
    "    \n",
    "    'inner function'\n",
    "    ################\n",
    "    def mult(num):\n",
    "        lst = list(str(num))\n",
    "        prod = 1\n",
    "        \n",
    "        for i in lst:\n",
    "            prod *= int(i)\n",
    "        \n",
    "        return prod\n",
    "    ################\n",
    "    \n",
    "    counter = 0\n",
    "    while len(str(n)) != 1:\n",
    "        n = mult(n)\n",
    "        counter+=1\n",
    "    return counter"
   ]
  },
  {
   "cell_type": "code",
   "execution_count": 15,
   "metadata": {},
   "outputs": [
    {
     "data": {
      "text/plain": [
       "3"
      ]
     },
     "execution_count": 15,
     "metadata": {},
     "output_type": "execute_result"
    }
   ],
   "source": [
    "persistence(39)"
   ]
  },
  {
   "cell_type": "markdown",
   "metadata": {},
   "source": [
    "**Who likes it?**"
   ]
  },
  {
   "cell_type": "code",
   "execution_count": 26,
   "metadata": {},
   "outputs": [],
   "source": [
    "def likes(names):\n",
    "    n = len(names)\n",
    "    return {\n",
    "        0: 'no one likes this',\n",
    "        1: '{} likes this', \n",
    "        2: '{} and {} like this', \n",
    "        3: '{}, {} and {} like this', \n",
    "        4: '{}, {} and {others} others like this'\n",
    "    }[min(4, n)].format(*names[:3], others=n-2)"
   ]
  },
  {
   "cell_type": "markdown",
   "metadata": {},
   "source": [
    "**Take a Ten Minute Walk**"
   ]
  },
  {
   "cell_type": "code",
   "execution_count": null,
   "metadata": {},
   "outputs": [],
   "source": [
    "def is_valid_walk(walk):\n",
    "    if len(walk) != 10:\n",
    "        return False\n",
    "    else:\n",
    "        return (walk.count('n') == walk.count('s')) and (walk.count('w') == walk.count('e'))"
   ]
  },
  {
   "cell_type": "markdown",
   "metadata": {},
   "source": [
    "**Tribonacci Sequence**"
   ]
  },
  {
   "cell_type": "code",
   "execution_count": null,
   "metadata": {},
   "outputs": [],
   "source": [
    "def tribonacci(signature, n):\n",
    "    if n == 0:\n",
    "        return []\n",
    "    elif n < 4:\n",
    "        return signature[:n]\n",
    "    else:\n",
    "        for i in range(n-3):\n",
    "            signature.append(sum(signature[-3:]))\n",
    "        return signature"
   ]
  },
  {
   "cell_type": "markdown",
   "metadata": {},
   "source": [
    "**Replace With Alphabet Position**"
   ]
  },
  {
   "cell_type": "code",
   "execution_count": 45,
   "metadata": {},
   "outputs": [],
   "source": [
    "import string\n",
    "import re\n",
    "def alphabet_position(text):\n",
    "    lst = []\n",
    "    text = re.findall('[a-zA-Z]',text)\n",
    "    for i in text:\n",
    "        lst.append(str(string.ascii_letters.index(i)))\n",
    "    \n",
    "    return ' '.join(x for x in lst)"
   ]
  },
  {
   "cell_type": "code",
   "execution_count": 46,
   "metadata": {},
   "outputs": [
    {
     "data": {
      "text/plain": [
       "'45 7 4 13 0 17 22 7 0 11 1 0 2 14 13 18 0 19 12 8 3 13 8 6 7 19'"
      ]
     },
     "execution_count": 46,
     "metadata": {},
     "output_type": "execute_result"
    }
   ],
   "source": [
    "alphabet_position('The narwhal bacons at midnight.')"
   ]
  },
  {
   "cell_type": "markdown",
   "metadata": {},
   "source": [
    "**IQ Test**"
   ]
  },
  {
   "cell_type": "code",
   "execution_count": 62,
   "metadata": {},
   "outputs": [],
   "source": [
    "def iq_test(numbers):\n",
    "    lst = list(map(lambda x: int(x),numbers.split()))\n",
    "    \n",
    "    even = False\n",
    "    \n",
    "    if (lst[0] % 2 == 0 and lst[1] % 2 == 0) or (lst[0] % 2 == 0 and lst[2] % 2 == 0) or (lst[2] % 2 == 0 and lst[1] % 2 == 0):\n",
    "        even = True\n",
    "    \n",
    "    if even:\n",
    "        return lst.index(list(filter(lambda i: i%2 == 1,lst))[0])+1\n",
    "    else:\n",
    "        return lst.index(list(filter(lambda i: i%2 ==0,lst))[0])+1"
   ]
  },
  {
   "cell_type": "code",
   "execution_count": 63,
   "metadata": {},
   "outputs": [
    {
     "data": {
      "text/plain": [
       "3"
      ]
     },
     "execution_count": 63,
     "metadata": {},
     "output_type": "execute_result"
    }
   ],
   "source": [
    "iq_test(\"2 4 7 8 10\")"
   ]
  },
  {
   "cell_type": "markdown",
   "metadata": {},
   "source": [
    "**Simple Pig Latin**"
   ]
  },
  {
   "cell_type": "code",
   "execution_count": 1,
   "metadata": {},
   "outputs": [],
   "source": [
    "import re"
   ]
  },
  {
   "cell_type": "code",
   "execution_count": null,
   "metadata": {},
   "outputs": [],
   "source": []
  },
  {
   "cell_type": "code",
   "execution_count": null,
   "metadata": {},
   "outputs": [],
   "source": []
  },
  {
   "cell_type": "code",
   "execution_count": null,
   "metadata": {},
   "outputs": [],
   "source": []
  },
  {
   "cell_type": "code",
   "execution_count": null,
   "metadata": {},
   "outputs": [],
   "source": []
  },
  {
   "cell_type": "code",
   "execution_count": null,
   "metadata": {},
   "outputs": [],
   "source": []
  },
  {
   "cell_type": "code",
   "execution_count": null,
   "metadata": {},
   "outputs": [],
   "source": []
  },
  {
   "cell_type": "code",
   "execution_count": null,
   "metadata": {},
   "outputs": [],
   "source": []
  },
  {
   "cell_type": "code",
   "execution_count": null,
   "metadata": {},
   "outputs": [],
   "source": []
  },
  {
   "cell_type": "code",
   "execution_count": null,
   "metadata": {},
   "outputs": [],
   "source": []
  },
  {
   "cell_type": "code",
   "execution_count": null,
   "metadata": {},
   "outputs": [],
   "source": []
  },
  {
   "cell_type": "code",
   "execution_count": null,
   "metadata": {},
   "outputs": [],
   "source": []
  },
  {
   "cell_type": "code",
   "execution_count": null,
   "metadata": {},
   "outputs": [],
   "source": []
  },
  {
   "cell_type": "code",
   "execution_count": null,
   "metadata": {},
   "outputs": [],
   "source": []
  },
  {
   "cell_type": "code",
   "execution_count": null,
   "metadata": {},
   "outputs": [],
   "source": []
  },
  {
   "cell_type": "code",
   "execution_count": null,
   "metadata": {},
   "outputs": [],
   "source": []
  },
  {
   "cell_type": "code",
   "execution_count": null,
   "metadata": {},
   "outputs": [],
   "source": []
  },
  {
   "cell_type": "code",
   "execution_count": null,
   "metadata": {},
   "outputs": [],
   "source": []
  },
  {
   "cell_type": "code",
   "execution_count": null,
   "metadata": {},
   "outputs": [],
   "source": []
  },
  {
   "cell_type": "code",
   "execution_count": null,
   "metadata": {},
   "outputs": [],
   "source": []
  },
  {
   "cell_type": "code",
   "execution_count": null,
   "metadata": {},
   "outputs": [],
   "source": []
  },
  {
   "cell_type": "code",
   "execution_count": null,
   "metadata": {},
   "outputs": [],
   "source": []
  },
  {
   "cell_type": "code",
   "execution_count": null,
   "metadata": {},
   "outputs": [],
   "source": []
  },
  {
   "cell_type": "code",
   "execution_count": null,
   "metadata": {},
   "outputs": [],
   "source": []
  },
  {
   "cell_type": "code",
   "execution_count": null,
   "metadata": {},
   "outputs": [],
   "source": []
  },
  {
   "cell_type": "code",
   "execution_count": null,
   "metadata": {},
   "outputs": [],
   "source": []
  },
  {
   "cell_type": "code",
   "execution_count": null,
   "metadata": {},
   "outputs": [],
   "source": []
  },
  {
   "cell_type": "code",
   "execution_count": null,
   "metadata": {},
   "outputs": [],
   "source": []
  },
  {
   "cell_type": "code",
   "execution_count": null,
   "metadata": {},
   "outputs": [],
   "source": []
  },
  {
   "cell_type": "code",
   "execution_count": null,
   "metadata": {},
   "outputs": [],
   "source": []
  },
  {
   "cell_type": "code",
   "execution_count": null,
   "metadata": {},
   "outputs": [],
   "source": []
  },
  {
   "cell_type": "code",
   "execution_count": null,
   "metadata": {},
   "outputs": [],
   "source": []
  }
 ],
 "metadata": {
  "kernelspec": {
   "display_name": "Python 3",
   "language": "python",
   "name": "python3"
  },
  "language_info": {
   "codemirror_mode": {
    "name": "ipython",
    "version": 3
   },
   "file_extension": ".py",
   "mimetype": "text/x-python",
   "name": "python",
   "nbconvert_exporter": "python",
   "pygments_lexer": "ipython3",
   "version": "3.7.3"
  }
 },
 "nbformat": 4,
 "nbformat_minor": 2
}
